{
    "cells": [
        {
            "cell_type": "code",
            "execution_count": 9,
            "metadata": {},
            "outputs": [],
            "source": "import numpy as np  \nimport pandas as pd \nimport matplotlib.pyplot as plt"
        },
        {
            "cell_type": "code",
            "execution_count": 10,
            "metadata": {},
            "outputs": [],
            "source": "filename = 'https://s3.us.cloud-object-storage.appdomain.cloud/cf-courses-data/CognitiveClass/DP0701EN/version-2/Data-Collisions.csv'\ndf = pd.read_csv(filename)"
        },
        {
            "cell_type": "code",
            "execution_count": 12,
            "metadata": {},
            "outputs": [
                {
                    "data": {
                        "text/plain": "Index(['SEVERITYCODE', 'X', 'Y', 'OBJECTID', 'INCKEY', 'COLDETKEY', 'REPORTNO',\n       'STATUS', 'ADDRTYPE', 'INTKEY', 'LOCATION', 'EXCEPTRSNCODE',\n       'EXCEPTRSNDESC', 'SEVERITYCODE.1', 'SEVERITYDESC', 'COLLISIONTYPE',\n       'PERSONCOUNT', 'PEDCOUNT', 'PEDCYLCOUNT', 'VEHCOUNT', 'INCDATE',\n       'INCDTTM', 'JUNCTIONTYPE', 'SDOT_COLCODE', 'SDOT_COLDESC',\n       'INATTENTIONIND', 'UNDERINFL', 'WEATHER', 'ROADCOND', 'LIGHTCOND',\n       'PEDROWNOTGRNT', 'SDOTCOLNUM', 'SPEEDING', 'ST_COLCODE', 'ST_COLDESC',\n       'SEGLANEKEY', 'CROSSWALKKEY', 'HITPARKEDCAR'],\n      dtype='object')"
                    },
                    "execution_count": 12,
                    "metadata": {},
                    "output_type": "execute_result"
                }
            ],
            "source": "df.columns"
        },
        {
            "cell_type": "code",
            "execution_count": 13,
            "metadata": {},
            "outputs": [
                {
                    "data": {
                        "text/html": "<div>\n<style scoped>\n    .dataframe tbody tr th:only-of-type {\n        vertical-align: middle;\n    }\n\n    .dataframe tbody tr th {\n        vertical-align: top;\n    }\n\n    .dataframe thead th {\n        text-align: right;\n    }\n</style>\n<table border=\"1\" class=\"dataframe\">\n  <thead>\n    <tr style=\"text-align: right;\">\n      <th></th>\n      <th>SEVERITYCODE</th>\n      <th>X</th>\n      <th>Y</th>\n      <th>OBJECTID</th>\n      <th>INCKEY</th>\n      <th>COLDETKEY</th>\n      <th>REPORTNO</th>\n      <th>STATUS</th>\n      <th>ADDRTYPE</th>\n      <th>INTKEY</th>\n      <th>...</th>\n      <th>ROADCOND</th>\n      <th>LIGHTCOND</th>\n      <th>PEDROWNOTGRNT</th>\n      <th>SDOTCOLNUM</th>\n      <th>SPEEDING</th>\n      <th>ST_COLCODE</th>\n      <th>ST_COLDESC</th>\n      <th>SEGLANEKEY</th>\n      <th>CROSSWALKKEY</th>\n      <th>HITPARKEDCAR</th>\n    </tr>\n  </thead>\n  <tbody>\n    <tr>\n      <th>194668</th>\n      <td>2</td>\n      <td>-122.290826</td>\n      <td>47.565408</td>\n      <td>219543</td>\n      <td>309534</td>\n      <td>310814</td>\n      <td>E871089</td>\n      <td>Matched</td>\n      <td>Block</td>\n      <td>NaN</td>\n      <td>...</td>\n      <td>Dry</td>\n      <td>Daylight</td>\n      <td>NaN</td>\n      <td>NaN</td>\n      <td>NaN</td>\n      <td>24</td>\n      <td>From opposite direction - both moving - head-on</td>\n      <td>0</td>\n      <td>0</td>\n      <td>N</td>\n    </tr>\n    <tr>\n      <th>194669</th>\n      <td>1</td>\n      <td>-122.344526</td>\n      <td>47.690924</td>\n      <td>219544</td>\n      <td>309085</td>\n      <td>310365</td>\n      <td>E876731</td>\n      <td>Matched</td>\n      <td>Block</td>\n      <td>NaN</td>\n      <td>...</td>\n      <td>Wet</td>\n      <td>Daylight</td>\n      <td>NaN</td>\n      <td>NaN</td>\n      <td>NaN</td>\n      <td>13</td>\n      <td>From same direction - both going straight - bo...</td>\n      <td>0</td>\n      <td>0</td>\n      <td>N</td>\n    </tr>\n    <tr>\n      <th>194670</th>\n      <td>2</td>\n      <td>-122.306689</td>\n      <td>47.683047</td>\n      <td>219545</td>\n      <td>311280</td>\n      <td>312640</td>\n      <td>3809984</td>\n      <td>Matched</td>\n      <td>Intersection</td>\n      <td>24760.0</td>\n      <td>...</td>\n      <td>Dry</td>\n      <td>Daylight</td>\n      <td>NaN</td>\n      <td>NaN</td>\n      <td>NaN</td>\n      <td>28</td>\n      <td>From opposite direction - one left turn - one ...</td>\n      <td>0</td>\n      <td>0</td>\n      <td>N</td>\n    </tr>\n    <tr>\n      <th>194671</th>\n      <td>2</td>\n      <td>-122.355317</td>\n      <td>47.678734</td>\n      <td>219546</td>\n      <td>309514</td>\n      <td>310794</td>\n      <td>3810083</td>\n      <td>Matched</td>\n      <td>Intersection</td>\n      <td>24349.0</td>\n      <td>...</td>\n      <td>Dry</td>\n      <td>Dusk</td>\n      <td>NaN</td>\n      <td>NaN</td>\n      <td>NaN</td>\n      <td>5</td>\n      <td>Vehicle Strikes Pedalcyclist</td>\n      <td>4308</td>\n      <td>0</td>\n      <td>N</td>\n    </tr>\n    <tr>\n      <th>194672</th>\n      <td>1</td>\n      <td>-122.289360</td>\n      <td>47.611017</td>\n      <td>219547</td>\n      <td>308220</td>\n      <td>309500</td>\n      <td>E868008</td>\n      <td>Matched</td>\n      <td>Block</td>\n      <td>NaN</td>\n      <td>...</td>\n      <td>Wet</td>\n      <td>Daylight</td>\n      <td>NaN</td>\n      <td>NaN</td>\n      <td>NaN</td>\n      <td>14</td>\n      <td>From same direction - both going straight - on...</td>\n      <td>0</td>\n      <td>0</td>\n      <td>N</td>\n    </tr>\n  </tbody>\n</table>\n<p>5 rows \u00d7 38 columns</p>\n</div>",
                        "text/plain": "        SEVERITYCODE           X          Y  OBJECTID  INCKEY  COLDETKEY  \\\n194668             2 -122.290826  47.565408    219543  309534     310814   \n194669             1 -122.344526  47.690924    219544  309085     310365   \n194670             2 -122.306689  47.683047    219545  311280     312640   \n194671             2 -122.355317  47.678734    219546  309514     310794   \n194672             1 -122.289360  47.611017    219547  308220     309500   \n\n       REPORTNO   STATUS      ADDRTYPE   INTKEY  ... ROADCOND LIGHTCOND  \\\n194668  E871089  Matched         Block      NaN  ...      Dry  Daylight   \n194669  E876731  Matched         Block      NaN  ...      Wet  Daylight   \n194670  3809984  Matched  Intersection  24760.0  ...      Dry  Daylight   \n194671  3810083  Matched  Intersection  24349.0  ...      Dry      Dusk   \n194672  E868008  Matched         Block      NaN  ...      Wet  Daylight   \n\n       PEDROWNOTGRNT  SDOTCOLNUM SPEEDING ST_COLCODE  \\\n194668           NaN         NaN      NaN         24   \n194669           NaN         NaN      NaN         13   \n194670           NaN         NaN      NaN         28   \n194671           NaN         NaN      NaN          5   \n194672           NaN         NaN      NaN         14   \n\n                                               ST_COLDESC  SEGLANEKEY  \\\n194668    From opposite direction - both moving - head-on           0   \n194669  From same direction - both going straight - bo...           0   \n194670  From opposite direction - one left turn - one ...           0   \n194671                       Vehicle Strikes Pedalcyclist        4308   \n194672  From same direction - both going straight - on...           0   \n\n        CROSSWALKKEY  HITPARKEDCAR  \n194668             0             N  \n194669             0             N  \n194670             0             N  \n194671             0             N  \n194672             0             N  \n\n[5 rows x 38 columns]"
                    },
                    "execution_count": 13,
                    "metadata": {},
                    "output_type": "execute_result"
                }
            ],
            "source": "df.tail()"
        },
        {
            "cell_type": "code",
            "execution_count": 43,
            "metadata": {},
            "outputs": [],
            "source": "# Create Dataframe with relevant columns\ncollisions = df[['SEVERITYCODE', 'ADDRTYPE', 'COLLISIONTYPE','PERSONCOUNT', 'PEDCOUNT', 'PEDCYLCOUNT', 'VEHCOUNT', 'JUNCTIONTYPE','WEATHER', 'ROADCOND', 'LIGHTCOND','SPEEDING']]"
        },
        {
            "cell_type": "code",
            "execution_count": 44,
            "metadata": {},
            "outputs": [
                {
                    "data": {
                        "text/html": "<div>\n<style scoped>\n    .dataframe tbody tr th:only-of-type {\n        vertical-align: middle;\n    }\n\n    .dataframe tbody tr th {\n        vertical-align: top;\n    }\n\n    .dataframe thead th {\n        text-align: right;\n    }\n</style>\n<table border=\"1\" class=\"dataframe\">\n  <thead>\n    <tr style=\"text-align: right;\">\n      <th></th>\n      <th>SEVERITYCODE</th>\n      <th>ADDRTYPE</th>\n      <th>COLLISIONTYPE</th>\n      <th>PERSONCOUNT</th>\n      <th>PEDCOUNT</th>\n      <th>PEDCYLCOUNT</th>\n      <th>VEHCOUNT</th>\n      <th>JUNCTIONTYPE</th>\n      <th>WEATHER</th>\n      <th>ROADCOND</th>\n      <th>LIGHTCOND</th>\n      <th>SPEEDING</th>\n    </tr>\n  </thead>\n  <tbody>\n    <tr>\n      <th>0</th>\n      <td>2</td>\n      <td>Intersection</td>\n      <td>Angles</td>\n      <td>2</td>\n      <td>0</td>\n      <td>0</td>\n      <td>2</td>\n      <td>At Intersection (intersection related)</td>\n      <td>Overcast</td>\n      <td>Wet</td>\n      <td>Daylight</td>\n      <td>NaN</td>\n    </tr>\n    <tr>\n      <th>1</th>\n      <td>1</td>\n      <td>Block</td>\n      <td>Sideswipe</td>\n      <td>2</td>\n      <td>0</td>\n      <td>0</td>\n      <td>2</td>\n      <td>Mid-Block (not related to intersection)</td>\n      <td>Raining</td>\n      <td>Wet</td>\n      <td>Dark - Street Lights On</td>\n      <td>NaN</td>\n    </tr>\n    <tr>\n      <th>2</th>\n      <td>1</td>\n      <td>Block</td>\n      <td>Parked Car</td>\n      <td>4</td>\n      <td>0</td>\n      <td>0</td>\n      <td>3</td>\n      <td>Mid-Block (not related to intersection)</td>\n      <td>Overcast</td>\n      <td>Dry</td>\n      <td>Daylight</td>\n      <td>NaN</td>\n    </tr>\n    <tr>\n      <th>3</th>\n      <td>1</td>\n      <td>Block</td>\n      <td>Other</td>\n      <td>3</td>\n      <td>0</td>\n      <td>0</td>\n      <td>3</td>\n      <td>Mid-Block (not related to intersection)</td>\n      <td>Clear</td>\n      <td>Dry</td>\n      <td>Daylight</td>\n      <td>NaN</td>\n    </tr>\n    <tr>\n      <th>4</th>\n      <td>2</td>\n      <td>Intersection</td>\n      <td>Angles</td>\n      <td>2</td>\n      <td>0</td>\n      <td>0</td>\n      <td>2</td>\n      <td>At Intersection (intersection related)</td>\n      <td>Raining</td>\n      <td>Wet</td>\n      <td>Daylight</td>\n      <td>NaN</td>\n    </tr>\n  </tbody>\n</table>\n</div>",
                        "text/plain": "   SEVERITYCODE      ADDRTYPE COLLISIONTYPE  PERSONCOUNT  PEDCOUNT  \\\n0             2  Intersection        Angles            2         0   \n1             1         Block     Sideswipe            2         0   \n2             1         Block    Parked Car            4         0   \n3             1         Block         Other            3         0   \n4             2  Intersection        Angles            2         0   \n\n   PEDCYLCOUNT  VEHCOUNT                             JUNCTIONTYPE   WEATHER  \\\n0            0         2   At Intersection (intersection related)  Overcast   \n1            0         2  Mid-Block (not related to intersection)   Raining   \n2            0         3  Mid-Block (not related to intersection)  Overcast   \n3            0         3  Mid-Block (not related to intersection)     Clear   \n4            0         2   At Intersection (intersection related)   Raining   \n\n  ROADCOND                LIGHTCOND SPEEDING  \n0      Wet                 Daylight      NaN  \n1      Wet  Dark - Street Lights On      NaN  \n2      Dry                 Daylight      NaN  \n3      Dry                 Daylight      NaN  \n4      Wet                 Daylight      NaN  "
                    },
                    "execution_count": 44,
                    "metadata": {},
                    "output_type": "execute_result"
                }
            ],
            "source": "collisions.head()"
        },
        {
            "cell_type": "markdown",
            "metadata": {},
            "source": "## Data Cleaning"
        },
        {
            "cell_type": "code",
            "execution_count": 45,
            "metadata": {},
            "outputs": [],
            "source": "# Removing unknowns\ncollisions = collisions[collisions['JUNCTIONTYPE'] != \"Unknown\"]\ncollisions = collisions[collisions['WEATHER'] != \"Unknown\"]\ncollisions = collisions[collisions['ROADCOND'] != \"Unknown\"]\ncollisions = collisions[collisions['LIGHTCOND'] != \"Unknown\"]\n\n# Speeding NaN with No! \ncollisions['SPEEDING'] = collisions['SPEEDING'].fillna('N')\n"
        },
        {
            "cell_type": "code",
            "execution_count": null,
            "metadata": {},
            "outputs": [],
            "source": ""
        }
    ],
    "metadata": {
        "kernelspec": {
            "display_name": "Python 3.6",
            "language": "python",
            "name": "python3"
        },
        "language_info": {
            "codemirror_mode": {
                "name": "ipython",
                "version": 3
            },
            "file_extension": ".py",
            "mimetype": "text/x-python",
            "name": "python",
            "nbconvert_exporter": "python",
            "pygments_lexer": "ipython3",
            "version": "3.6.9"
        }
    },
    "nbformat": 4,
    "nbformat_minor": 1
}