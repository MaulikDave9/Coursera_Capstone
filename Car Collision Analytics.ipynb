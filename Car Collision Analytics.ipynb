{
    "cells": [
        {
            "cell_type": "code",
            "execution_count": 13,
            "metadata": {},
            "outputs": [],
            "source": "import numpy as np  \nimport pandas as pd \nimport matplotlib.pyplot as plt\n\n%matplotlib inline"
        },
        {
            "cell_type": "code",
            "execution_count": 2,
            "metadata": {},
            "outputs": [
                {
                    "name": "stderr",
                    "output_type": "stream",
                    "text": "/opt/conda/envs/Python36/lib/python3.6/site-packages/IPython/core/interactiveshell.py:3020: DtypeWarning: Columns (33) have mixed types. Specify dtype option on import or set low_memory=False.\n  interactivity=interactivity, compiler=compiler, result=result)\n"
                }
            ],
            "source": "filename = 'https://s3.us.cloud-object-storage.appdomain.cloud/cf-courses-data/CognitiveClass/DP0701EN/version-2/Data-Collisions.csv'\ndf = pd.read_csv(filename)"
        },
        {
            "cell_type": "code",
            "execution_count": 3,
            "metadata": {},
            "outputs": [
                {
                    "data": {
                        "text/plain": "Index(['SEVERITYCODE', 'X', 'Y', 'OBJECTID', 'INCKEY', 'COLDETKEY', 'REPORTNO',\n       'STATUS', 'ADDRTYPE', 'INTKEY', 'LOCATION', 'EXCEPTRSNCODE',\n       'EXCEPTRSNDESC', 'SEVERITYCODE.1', 'SEVERITYDESC', 'COLLISIONTYPE',\n       'PERSONCOUNT', 'PEDCOUNT', 'PEDCYLCOUNT', 'VEHCOUNT', 'INCDATE',\n       'INCDTTM', 'JUNCTIONTYPE', 'SDOT_COLCODE', 'SDOT_COLDESC',\n       'INATTENTIONIND', 'UNDERINFL', 'WEATHER', 'ROADCOND', 'LIGHTCOND',\n       'PEDROWNOTGRNT', 'SDOTCOLNUM', 'SPEEDING', 'ST_COLCODE', 'ST_COLDESC',\n       'SEGLANEKEY', 'CROSSWALKKEY', 'HITPARKEDCAR'],\n      dtype='object')"
                    },
                    "execution_count": 3,
                    "metadata": {},
                    "output_type": "execute_result"
                }
            ],
            "source": "df.columns"
        },
        {
            "cell_type": "code",
            "execution_count": 4,
            "metadata": {},
            "outputs": [
                {
                    "data": {
                        "text/plain": "Y    4667\nName: PEDROWNOTGRNT, dtype: int64"
                    },
                    "execution_count": 4,
                    "metadata": {},
                    "output_type": "execute_result"
                }
            ],
            "source": "df['PEDROWNOTGRNT'].value_counts()"
        },
        {
            "cell_type": "code",
            "execution_count": 5,
            "metadata": {},
            "outputs": [],
            "source": "# Create Dataframe with relevant columns\ncollisions = df[['SEVERITYCODE', 'ADDRTYPE', 'COLLISIONTYPE','PERSONCOUNT', 'PEDCOUNT', 'PEDCYLCOUNT', 'VEHCOUNT', 'JUNCTIONTYPE', 'INATTENTIONIND', 'WEATHER', 'ROADCOND', 'LIGHTCOND', 'UNDERINFL','SPEEDING','HITPARKEDCAR']]"
        },
        {
            "cell_type": "markdown",
            "metadata": {},
            "source": "## Data Cleaning"
        },
        {
            "cell_type": "code",
            "execution_count": 6,
            "metadata": {},
            "outputs": [],
            "source": "# Removing Rows where Feature values are unknowns\ncollisions = collisions[collisions['JUNCTIONTYPE'] != \"Unknown\"]\ncollisions = collisions[collisions['WEATHER'] != \"Unknown\"]\ncollisions = collisions[collisions['ROADCOND'] != \"Unknown\"]\ncollisions = collisions[collisions['LIGHTCOND'] != \"Unknown\"]\n\n# Speeding NaN with No! \ncollisions['SPEEDING'] = collisions['SPEEDING'].fillna('N')\ncollisions['INATTENTIONIND'] = collisions['INATTENTIONIND'].fillna('N')\n"
        },
        {
            "cell_type": "code",
            "execution_count": 7,
            "metadata": {},
            "outputs": [
                {
                    "data": {
                        "text/html": "<div>\n<style scoped>\n    .dataframe tbody tr th:only-of-type {\n        vertical-align: middle;\n    }\n\n    .dataframe tbody tr th {\n        vertical-align: top;\n    }\n\n    .dataframe thead th {\n        text-align: right;\n    }\n</style>\n<table border=\"1\" class=\"dataframe\">\n  <thead>\n    <tr style=\"text-align: right;\">\n      <th></th>\n      <th>SEVERITYCODE</th>\n      <th>ADDRTYPE</th>\n      <th>COLLISIONTYPE</th>\n      <th>PERSONCOUNT</th>\n      <th>PEDCOUNT</th>\n      <th>PEDCYLCOUNT</th>\n      <th>VEHCOUNT</th>\n      <th>JUNCTIONTYPE</th>\n      <th>INATTENTIONIND</th>\n      <th>WEATHER</th>\n      <th>ROADCOND</th>\n      <th>LIGHTCOND</th>\n      <th>UNDERINFL</th>\n      <th>SPEEDING</th>\n      <th>HITPARKEDCAR</th>\n    </tr>\n  </thead>\n  <tbody>\n    <tr>\n      <th>0</th>\n      <td>2</td>\n      <td>Intersection</td>\n      <td>Angles</td>\n      <td>2</td>\n      <td>0</td>\n      <td>0</td>\n      <td>2</td>\n      <td>At Intersection (intersection related)</td>\n      <td>N</td>\n      <td>Overcast</td>\n      <td>Wet</td>\n      <td>Daylight</td>\n      <td>N</td>\n      <td>N</td>\n      <td>N</td>\n    </tr>\n    <tr>\n      <th>1</th>\n      <td>1</td>\n      <td>Block</td>\n      <td>Sideswipe</td>\n      <td>2</td>\n      <td>0</td>\n      <td>0</td>\n      <td>2</td>\n      <td>Mid-Block (not related to intersection)</td>\n      <td>N</td>\n      <td>Raining</td>\n      <td>Wet</td>\n      <td>Dark - Street Lights On</td>\n      <td>0</td>\n      <td>N</td>\n      <td>N</td>\n    </tr>\n    <tr>\n      <th>2</th>\n      <td>1</td>\n      <td>Block</td>\n      <td>Parked Car</td>\n      <td>4</td>\n      <td>0</td>\n      <td>0</td>\n      <td>3</td>\n      <td>Mid-Block (not related to intersection)</td>\n      <td>N</td>\n      <td>Overcast</td>\n      <td>Dry</td>\n      <td>Daylight</td>\n      <td>0</td>\n      <td>N</td>\n      <td>N</td>\n    </tr>\n    <tr>\n      <th>3</th>\n      <td>1</td>\n      <td>Block</td>\n      <td>Other</td>\n      <td>3</td>\n      <td>0</td>\n      <td>0</td>\n      <td>3</td>\n      <td>Mid-Block (not related to intersection)</td>\n      <td>N</td>\n      <td>Clear</td>\n      <td>Dry</td>\n      <td>Daylight</td>\n      <td>N</td>\n      <td>N</td>\n      <td>N</td>\n    </tr>\n    <tr>\n      <th>4</th>\n      <td>2</td>\n      <td>Intersection</td>\n      <td>Angles</td>\n      <td>2</td>\n      <td>0</td>\n      <td>0</td>\n      <td>2</td>\n      <td>At Intersection (intersection related)</td>\n      <td>N</td>\n      <td>Raining</td>\n      <td>Wet</td>\n      <td>Daylight</td>\n      <td>0</td>\n      <td>N</td>\n      <td>N</td>\n    </tr>\n  </tbody>\n</table>\n</div>",
                        "text/plain": "   SEVERITYCODE      ADDRTYPE COLLISIONTYPE  PERSONCOUNT  PEDCOUNT  \\\n0             2  Intersection        Angles            2         0   \n1             1         Block     Sideswipe            2         0   \n2             1         Block    Parked Car            4         0   \n3             1         Block         Other            3         0   \n4             2  Intersection        Angles            2         0   \n\n   PEDCYLCOUNT  VEHCOUNT                             JUNCTIONTYPE  \\\n0            0         2   At Intersection (intersection related)   \n1            0         2  Mid-Block (not related to intersection)   \n2            0         3  Mid-Block (not related to intersection)   \n3            0         3  Mid-Block (not related to intersection)   \n4            0         2   At Intersection (intersection related)   \n\n  INATTENTIONIND   WEATHER ROADCOND                LIGHTCOND UNDERINFL  \\\n0              N  Overcast      Wet                 Daylight         N   \n1              N   Raining      Wet  Dark - Street Lights On         0   \n2              N  Overcast      Dry                 Daylight         0   \n3              N     Clear      Dry                 Daylight         N   \n4              N   Raining      Wet                 Daylight         0   \n\n  SPEEDING HITPARKEDCAR  \n0        N            N  \n1        N            N  \n2        N            N  \n3        N            N  \n4        N            N  "
                    },
                    "execution_count": 7,
                    "metadata": {},
                    "output_type": "execute_result"
                }
            ],
            "source": "collisions.head()"
        },
        {
            "cell_type": "markdown",
            "metadata": {},
            "source": "## Feature Selection"
        },
        {
            "cell_type": "code",
            "execution_count": 8,
            "metadata": {},
            "outputs": [],
            "source": "# Convert Y and N to 1 and 0 (numerical values)\ncollisions['INATTENTIONIND'].replace('N',0, inplace=True)\ncollisions['INATTENTIONIND'].replace('Y',0, inplace=True)\n\ncollisions['SPEEDING'].replace('N',0, inplace=True)\ncollisions['SPEEDING'].replace('Y',1, inplace=True)\n\n\ncollisions['HITPARKEDCAR'].replace('N',0, inplace=True)\ncollisions['HITPARKEDCAR'].replace('Y',1, inplace=True)\n\ncollisions['UNDERINFL'].replace('N',0, inplace=True)\ncollisions['UNDERINFL'].replace('Y',1, inplace=True)"
        },
        {
            "cell_type": "code",
            "execution_count": 51,
            "metadata": {},
            "outputs": [
                {
                    "data": {
                        "text/html": "<div>\n<style scoped>\n    .dataframe tbody tr th:only-of-type {\n        vertical-align: middle;\n    }\n\n    .dataframe tbody tr th {\n        vertical-align: top;\n    }\n\n    .dataframe thead th {\n        text-align: right;\n    }\n</style>\n<table border=\"1\" class=\"dataframe\">\n  <thead>\n    <tr style=\"text-align: right;\">\n      <th></th>\n      <th>SEVERITYCODE</th>\n      <th>ADDRTYPE</th>\n      <th>COLLISIONTYPE</th>\n      <th>WEATHER</th>\n      <th>LIGHTCOND</th>\n      <th>ROADCOND</th>\n      <th>UNDERINFL</th>\n      <th>SPEEDING</th>\n      <th>INATTENTIONIND</th>\n      <th>HITPARKEDCAR</th>\n    </tr>\n  </thead>\n  <tbody>\n    <tr>\n      <th>0</th>\n      <td>2</td>\n      <td>Intersection</td>\n      <td>Angles</td>\n      <td>Overcast</td>\n      <td>Daylight</td>\n      <td>Wet</td>\n      <td>0</td>\n      <td>0</td>\n      <td>0</td>\n      <td>0</td>\n    </tr>\n    <tr>\n      <th>1</th>\n      <td>1</td>\n      <td>Block</td>\n      <td>Sideswipe</td>\n      <td>Raining</td>\n      <td>Dark - Street Lights On</td>\n      <td>Wet</td>\n      <td>0</td>\n      <td>0</td>\n      <td>0</td>\n      <td>0</td>\n    </tr>\n    <tr>\n      <th>2</th>\n      <td>1</td>\n      <td>Block</td>\n      <td>Parked Car</td>\n      <td>Overcast</td>\n      <td>Daylight</td>\n      <td>Dry</td>\n      <td>0</td>\n      <td>0</td>\n      <td>0</td>\n      <td>0</td>\n    </tr>\n    <tr>\n      <th>3</th>\n      <td>1</td>\n      <td>Block</td>\n      <td>Other</td>\n      <td>Clear</td>\n      <td>Daylight</td>\n      <td>Dry</td>\n      <td>0</td>\n      <td>0</td>\n      <td>0</td>\n      <td>0</td>\n    </tr>\n    <tr>\n      <th>4</th>\n      <td>2</td>\n      <td>Intersection</td>\n      <td>Angles</td>\n      <td>Raining</td>\n      <td>Daylight</td>\n      <td>Wet</td>\n      <td>0</td>\n      <td>0</td>\n      <td>0</td>\n      <td>0</td>\n    </tr>\n  </tbody>\n</table>\n</div>",
                        "text/plain": "   SEVERITYCODE      ADDRTYPE COLLISIONTYPE   WEATHER  \\\n0             2  Intersection        Angles  Overcast   \n1             1         Block     Sideswipe   Raining   \n2             1         Block    Parked Car  Overcast   \n3             1         Block         Other     Clear   \n4             2  Intersection        Angles   Raining   \n\n                 LIGHTCOND ROADCOND UNDERINFL  SPEEDING  INATTENTIONIND  \\\n0                 Daylight      Wet         0         0               0   \n1  Dark - Street Lights On      Wet         0         0               0   \n2                 Daylight      Dry         0         0               0   \n3                 Daylight      Dry         0         0               0   \n4                 Daylight      Wet         0         0               0   \n\n   HITPARKEDCAR  \n0             0  \n1             0  \n2             0  \n3             0  \n4             0  "
                    },
                    "execution_count": 51,
                    "metadata": {},
                    "output_type": "execute_result"
                }
            ],
            "source": "collisions = collisions[['SEVERITYCODE', 'ADDRTYPE', 'COLLISIONTYPE','WEATHER', 'LIGHTCOND','ROADCOND', 'UNDERINFL','SPEEDING','INATTENTIONIND', 'HITPARKEDCAR']]\ncollisions.head()"
        },
        {
            "cell_type": "code",
            "execution_count": 52,
            "metadata": {},
            "outputs": [],
            "source": "X = collisions[['UNDERINFL','SPEEDING','INATTENTIONIND','HITPARKEDCAR']]"
        },
        {
            "cell_type": "code",
            "execution_count": 53,
            "metadata": {},
            "outputs": [],
            "source": "addDummies = pd.get_dummies(collisions['ADDRTYPE'])\ncolDummies = pd.get_dummies(collisions['COLLISIONTYPE'])\nweaDummies = pd.get_dummies(collisions['WEATHER'])\nligDummies = pd.get_dummies(collisions['LIGHTCOND'])\nroaDummies = pd.get_dummies(collisions['ROADCOND'])\n\nweaDummies.rename(columns={\"Other\":\"Other Weather\"}, inplace = True)\nligDummies.rename(columns={\"Other\":\"Other Light\"}, inplace = True)\nroaDummies.rename(columns={\"Other\": \"Other Road\"}, inplace = True)\n"
        },
        {
            "cell_type": "code",
            "execution_count": 54,
            "metadata": {},
            "outputs": [],
            "source": "X = X.join(addDummies)\nX = X.join(colDummies)\nX = X.join(weaDummies)\nX = X.join(roaDummies)"
        },
        {
            "cell_type": "code",
            "execution_count": 55,
            "metadata": {},
            "outputs": [
                {
                    "data": {
                        "text/html": "<div>\n<style scoped>\n    .dataframe tbody tr th:only-of-type {\n        vertical-align: middle;\n    }\n\n    .dataframe tbody tr th {\n        vertical-align: top;\n    }\n\n    .dataframe thead th {\n        text-align: right;\n    }\n</style>\n<table border=\"1\" class=\"dataframe\">\n  <thead>\n    <tr style=\"text-align: right;\">\n      <th></th>\n      <th>UNDERINFL</th>\n      <th>SPEEDING</th>\n      <th>INATTENTIONIND</th>\n      <th>HITPARKEDCAR</th>\n      <th>Alley</th>\n      <th>Block</th>\n      <th>Intersection</th>\n      <th>Angles</th>\n      <th>Cycles</th>\n      <th>Head On</th>\n      <th>...</th>\n      <th>Sleet/Hail/Freezing Rain</th>\n      <th>Snowing</th>\n      <th>Dry</th>\n      <th>Ice</th>\n      <th>Oil</th>\n      <th>Other Road</th>\n      <th>Sand/Mud/Dirt</th>\n      <th>Snow/Slush</th>\n      <th>Standing Water</th>\n      <th>Wet</th>\n    </tr>\n  </thead>\n  <tbody>\n    <tr>\n      <th>0</th>\n      <td>0</td>\n      <td>0</td>\n      <td>0</td>\n      <td>0</td>\n      <td>0</td>\n      <td>0</td>\n      <td>1</td>\n      <td>1</td>\n      <td>0</td>\n      <td>0</td>\n      <td>...</td>\n      <td>0</td>\n      <td>0</td>\n      <td>0</td>\n      <td>0</td>\n      <td>0</td>\n      <td>0</td>\n      <td>0</td>\n      <td>0</td>\n      <td>0</td>\n      <td>1</td>\n    </tr>\n    <tr>\n      <th>1</th>\n      <td>0</td>\n      <td>0</td>\n      <td>0</td>\n      <td>0</td>\n      <td>0</td>\n      <td>1</td>\n      <td>0</td>\n      <td>0</td>\n      <td>0</td>\n      <td>0</td>\n      <td>...</td>\n      <td>0</td>\n      <td>0</td>\n      <td>0</td>\n      <td>0</td>\n      <td>0</td>\n      <td>0</td>\n      <td>0</td>\n      <td>0</td>\n      <td>0</td>\n      <td>1</td>\n    </tr>\n    <tr>\n      <th>2</th>\n      <td>0</td>\n      <td>0</td>\n      <td>0</td>\n      <td>0</td>\n      <td>0</td>\n      <td>1</td>\n      <td>0</td>\n      <td>0</td>\n      <td>0</td>\n      <td>0</td>\n      <td>...</td>\n      <td>0</td>\n      <td>0</td>\n      <td>1</td>\n      <td>0</td>\n      <td>0</td>\n      <td>0</td>\n      <td>0</td>\n      <td>0</td>\n      <td>0</td>\n      <td>0</td>\n    </tr>\n    <tr>\n      <th>3</th>\n      <td>0</td>\n      <td>0</td>\n      <td>0</td>\n      <td>0</td>\n      <td>0</td>\n      <td>1</td>\n      <td>0</td>\n      <td>0</td>\n      <td>0</td>\n      <td>0</td>\n      <td>...</td>\n      <td>0</td>\n      <td>0</td>\n      <td>1</td>\n      <td>0</td>\n      <td>0</td>\n      <td>0</td>\n      <td>0</td>\n      <td>0</td>\n      <td>0</td>\n      <td>0</td>\n    </tr>\n    <tr>\n      <th>4</th>\n      <td>0</td>\n      <td>0</td>\n      <td>0</td>\n      <td>0</td>\n      <td>0</td>\n      <td>0</td>\n      <td>1</td>\n      <td>1</td>\n      <td>0</td>\n      <td>0</td>\n      <td>...</td>\n      <td>0</td>\n      <td>0</td>\n      <td>0</td>\n      <td>0</td>\n      <td>0</td>\n      <td>0</td>\n      <td>0</td>\n      <td>0</td>\n      <td>0</td>\n      <td>1</td>\n    </tr>\n  </tbody>\n</table>\n<p>5 rows \u00d7 35 columns</p>\n</div>",
                        "text/plain": "  UNDERINFL  SPEEDING  INATTENTIONIND  HITPARKEDCAR  Alley  Block  \\\n0         0         0               0             0      0      0   \n1         0         0               0             0      0      1   \n2         0         0               0             0      0      1   \n3         0         0               0             0      0      1   \n4         0         0               0             0      0      0   \n\n   Intersection  Angles  Cycles  Head On  ...  Sleet/Hail/Freezing Rain  \\\n0             1       1       0        0  ...                         0   \n1             0       0       0        0  ...                         0   \n2             0       0       0        0  ...                         0   \n3             0       0       0        0  ...                         0   \n4             1       1       0        0  ...                         0   \n\n   Snowing  Dry  Ice  Oil  Other Road  Sand/Mud/Dirt  Snow/Slush  \\\n0        0    0    0    0           0              0           0   \n1        0    0    0    0           0              0           0   \n2        0    1    0    0           0              0           0   \n3        0    1    0    0           0              0           0   \n4        0    0    0    0           0              0           0   \n\n   Standing Water  Wet  \n0               0    1  \n1               0    1  \n2               0    0  \n3               0    0  \n4               0    1  \n\n[5 rows x 35 columns]"
                    },
                    "execution_count": 55,
                    "metadata": {},
                    "output_type": "execute_result"
                }
            ],
            "source": "X.head()"
        },
        {
            "cell_type": "code",
            "execution_count": 58,
            "metadata": {},
            "outputs": [
                {
                    "data": {
                        "text/plain": "(175763, 35)"
                    },
                    "execution_count": 58,
                    "metadata": {},
                    "output_type": "execute_result"
                }
            ],
            "source": "X.shape"
        },
        {
            "cell_type": "code",
            "execution_count": null,
            "metadata": {},
            "outputs": [],
            "source": ""
        },
        {
            "cell_type": "code",
            "execution_count": null,
            "metadata": {},
            "outputs": [],
            "source": ""
        }
    ],
    "metadata": {
        "kernelspec": {
            "display_name": "Python 3.6",
            "language": "python",
            "name": "python3"
        },
        "language_info": {
            "codemirror_mode": {
                "name": "ipython",
                "version": 3
            },
            "file_extension": ".py",
            "mimetype": "text/x-python",
            "name": "python",
            "nbconvert_exporter": "python",
            "pygments_lexer": "ipython3",
            "version": "3.6.9"
        }
    },
    "nbformat": 4,
    "nbformat_minor": 1
}