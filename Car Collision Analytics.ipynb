{
    "cells": [
        {
            "cell_type": "code",
            "execution_count": 1,
            "metadata": {},
            "outputs": [],
            "source": "import numpy as np  \nimport pandas as pd \nimport matplotlib.pyplot as plt\n\nfrom sklearn.tree import DecisionTreeClassifier\nfrom sklearn.model_selection import train_test_split\nfrom sklearn import preprocessing"
        },
        {
            "cell_type": "code",
            "execution_count": 2,
            "metadata": {},
            "outputs": [
                {
                    "name": "stderr",
                    "output_type": "stream",
                    "text": "/opt/conda/envs/Python36/lib/python3.6/site-packages/IPython/core/interactiveshell.py:3020: DtypeWarning: Columns (33) have mixed types. Specify dtype option on import or set low_memory=False.\n  interactivity=interactivity, compiler=compiler, result=result)\n"
                }
            ],
            "source": "filename = 'https://s3.us.cloud-object-storage.appdomain.cloud/cf-courses-data/CognitiveClass/DP0701EN/version-2/Data-Collisions.csv'\ndf = pd.read_csv(filename)"
        },
        {
            "cell_type": "code",
            "execution_count": 3,
            "metadata": {},
            "outputs": [
                {
                    "data": {
                        "text/plain": "Index(['SEVERITYCODE', 'X', 'Y', 'OBJECTID', 'INCKEY', 'COLDETKEY', 'REPORTNO',\n       'STATUS', 'ADDRTYPE', 'INTKEY', 'LOCATION', 'EXCEPTRSNCODE',\n       'EXCEPTRSNDESC', 'SEVERITYCODE.1', 'SEVERITYDESC', 'COLLISIONTYPE',\n       'PERSONCOUNT', 'PEDCOUNT', 'PEDCYLCOUNT', 'VEHCOUNT', 'INCDATE',\n       'INCDTTM', 'JUNCTIONTYPE', 'SDOT_COLCODE', 'SDOT_COLDESC',\n       'INATTENTIONIND', 'UNDERINFL', 'WEATHER', 'ROADCOND', 'LIGHTCOND',\n       'PEDROWNOTGRNT', 'SDOTCOLNUM', 'SPEEDING', 'ST_COLCODE', 'ST_COLDESC',\n       'SEGLANEKEY', 'CROSSWALKKEY', 'HITPARKEDCAR'],\n      dtype='object')"
                    },
                    "execution_count": 3,
                    "metadata": {},
                    "output_type": "execute_result"
                }
            ],
            "source": "df.columns"
        },
        {
            "cell_type": "code",
            "execution_count": 4,
            "metadata": {},
            "outputs": [
                {
                    "data": {
                        "text/plain": "(194673, 15)"
                    },
                    "execution_count": 4,
                    "metadata": {},
                    "output_type": "execute_result"
                }
            ],
            "source": "# Create Dataframe with relevant columns\ncollisions = df[['SEVERITYCODE', 'ADDRTYPE', 'COLLISIONTYPE','PERSONCOUNT', 'PEDCOUNT', 'PEDCYLCOUNT', 'VEHCOUNT', 'JUNCTIONTYPE', 'INATTENTIONIND', 'WEATHER', 'ROADCOND', 'LIGHTCOND', 'UNDERINFL','SPEEDING','HITPARKEDCAR']]\ncollisions.shape"
        },
        {
            "cell_type": "markdown",
            "metadata": {},
            "source": "## Data Cleaning"
        },
        {
            "cell_type": "code",
            "execution_count": 5,
            "metadata": {},
            "outputs": [],
            "source": "# Removing Rows where Feature values are unknowns\ncollisions = collisions[collisions['JUNCTIONTYPE'] != \"Unknown\"]\ncollisions = collisions[collisions['WEATHER'] != \"Unknown\"]\ncollisions = collisions[collisions['ROADCOND'] != \"Unknown\"]\ncollisions = collisions[collisions['LIGHTCOND'] != \"Unknown\"]\n\n# Speeding NaN with No! \ncollisions['SPEEDING'] = collisions['SPEEDING'].fillna('N')\ncollisions['INATTENTIONIND'] = collisions['INATTENTIONIND'].fillna('N')\n\n# Drop NaN\ncollisions.dropna()\ncollisions = collisions.reset_index(drop=True)"
        },
        {
            "cell_type": "code",
            "execution_count": 6,
            "metadata": {},
            "outputs": [
                {
                    "data": {
                        "text/plain": "(175763, 15)"
                    },
                    "execution_count": 6,
                    "metadata": {},
                    "output_type": "execute_result"
                }
            ],
            "source": "collisions.shape"
        },
        {
            "cell_type": "markdown",
            "metadata": {},
            "source": "## Features"
        },
        {
            "cell_type": "code",
            "execution_count": 7,
            "metadata": {},
            "outputs": [],
            "source": "# Convert Y and N to 1 and 0 (numerical values)\ncollisions['INATTENTIONIND'].replace('N',0, inplace=True)\ncollisions['INATTENTIONIND'].replace('Y',0, inplace=True)\n\ncollisions['SPEEDING'].replace('N',0, inplace=True)\ncollisions['SPEEDING'].replace('Y',1, inplace=True)\n\n\ncollisions['HITPARKEDCAR'].replace('N',0, inplace=True)\ncollisions['HITPARKEDCAR'].replace('Y',1, inplace=True)\n\ncollisions['UNDERINFL'].replace('N',0, inplace=True)\ncollisions['UNDERINFL'].replace('Y',1, inplace=True)"
        },
        {
            "cell_type": "code",
            "execution_count": 8,
            "metadata": {},
            "outputs": [
                {
                    "data": {
                        "text/html": "<div>\n<style scoped>\n    .dataframe tbody tr th:only-of-type {\n        vertical-align: middle;\n    }\n\n    .dataframe tbody tr th {\n        vertical-align: top;\n    }\n\n    .dataframe thead th {\n        text-align: right;\n    }\n</style>\n<table border=\"1\" class=\"dataframe\">\n  <thead>\n    <tr style=\"text-align: right;\">\n      <th></th>\n      <th>SEVERITYCODE</th>\n      <th>ADDRTYPE</th>\n      <th>COLLISIONTYPE</th>\n      <th>WEATHER</th>\n      <th>LIGHTCOND</th>\n      <th>ROADCOND</th>\n      <th>UNDERINFL</th>\n      <th>SPEEDING</th>\n      <th>INATTENTIONIND</th>\n      <th>HITPARKEDCAR</th>\n    </tr>\n  </thead>\n  <tbody>\n    <tr>\n      <th>0</th>\n      <td>2</td>\n      <td>Intersection</td>\n      <td>Angles</td>\n      <td>Overcast</td>\n      <td>Daylight</td>\n      <td>Wet</td>\n      <td>0</td>\n      <td>0</td>\n      <td>0</td>\n      <td>0</td>\n    </tr>\n    <tr>\n      <th>1</th>\n      <td>1</td>\n      <td>Block</td>\n      <td>Sideswipe</td>\n      <td>Raining</td>\n      <td>Dark - Street Lights On</td>\n      <td>Wet</td>\n      <td>0</td>\n      <td>0</td>\n      <td>0</td>\n      <td>0</td>\n    </tr>\n    <tr>\n      <th>2</th>\n      <td>1</td>\n      <td>Block</td>\n      <td>Parked Car</td>\n      <td>Overcast</td>\n      <td>Daylight</td>\n      <td>Dry</td>\n      <td>0</td>\n      <td>0</td>\n      <td>0</td>\n      <td>0</td>\n    </tr>\n    <tr>\n      <th>3</th>\n      <td>1</td>\n      <td>Block</td>\n      <td>Other</td>\n      <td>Clear</td>\n      <td>Daylight</td>\n      <td>Dry</td>\n      <td>0</td>\n      <td>0</td>\n      <td>0</td>\n      <td>0</td>\n    </tr>\n    <tr>\n      <th>4</th>\n      <td>2</td>\n      <td>Intersection</td>\n      <td>Angles</td>\n      <td>Raining</td>\n      <td>Daylight</td>\n      <td>Wet</td>\n      <td>0</td>\n      <td>0</td>\n      <td>0</td>\n      <td>0</td>\n    </tr>\n  </tbody>\n</table>\n</div>",
                        "text/plain": "   SEVERITYCODE      ADDRTYPE COLLISIONTYPE   WEATHER  \\\n0             2  Intersection        Angles  Overcast   \n1             1         Block     Sideswipe   Raining   \n2             1         Block    Parked Car  Overcast   \n3             1         Block         Other     Clear   \n4             2  Intersection        Angles   Raining   \n\n                 LIGHTCOND ROADCOND UNDERINFL  SPEEDING  INATTENTIONIND  \\\n0                 Daylight      Wet         0         0               0   \n1  Dark - Street Lights On      Wet         0         0               0   \n2                 Daylight      Dry         0         0               0   \n3                 Daylight      Dry         0         0               0   \n4                 Daylight      Wet         0         0               0   \n\n   HITPARKEDCAR  \n0             0  \n1             0  \n2             0  \n3             0  \n4             0  "
                    },
                    "execution_count": 8,
                    "metadata": {},
                    "output_type": "execute_result"
                }
            ],
            "source": "collisions = collisions[['SEVERITYCODE', 'ADDRTYPE', 'COLLISIONTYPE','WEATHER', 'LIGHTCOND','ROADCOND', 'UNDERINFL','SPEEDING','INATTENTIONIND', 'HITPARKEDCAR']]\ncollisions.head()"
        },
        {
            "cell_type": "code",
            "execution_count": 9,
            "metadata": {},
            "outputs": [
                {
                    "data": {
                        "text/plain": "(174926, 10)"
                    },
                    "execution_count": 9,
                    "metadata": {},
                    "output_type": "execute_result"
                }
            ],
            "source": "collisions['ADDRTYPE'].value_counts()\ncollisions = collisions[pd.notnull(collisions['ADDRTYPE'])]\ncollisions = collisions.reset_index(drop=True)\n\naddrtype = preprocessing.LabelEncoder()\naddrtype.fit(['Block','Intersection','Alley'])\ncollisions['ADDRTYPE'] = addrtype.transform(collisions['ADDRTYPE'])\ncollisions.shape"
        },
        {
            "cell_type": "code",
            "execution_count": 10,
            "metadata": {},
            "outputs": [
                {
                    "data": {
                        "text/plain": "(170134, 10)"
                    },
                    "execution_count": 10,
                    "metadata": {},
                    "output_type": "execute_result"
                }
            ],
            "source": "collisions['COLLISIONTYPE'].value_counts()\ncollisions = collisions[pd.notnull(collisions['COLLISIONTYPE'])]\ncollisions = collisions.reset_index(drop=True)\n\n# TODO: Remove \"Other\"\ncolltype = preprocessing.LabelEncoder()\ncolltype.fit(['Angles','Parked Car','Rear Ended','Rear Ended','Other','Sideswipe','Left Turn','Pedestrian','Cycles','Right Turn','Head On'])\ncollisions['COLLISIONTYPE'] = colltype.transform(collisions['COLLISIONTYPE'])\n\ncollisions.shape"
        },
        {
            "cell_type": "code",
            "execution_count": 11,
            "metadata": {},
            "outputs": [
                {
                    "data": {
                        "text/plain": "(169953, 10)"
                    },
                    "execution_count": 11,
                    "metadata": {},
                    "output_type": "execute_result"
                }
            ],
            "source": "collisions['WEATHER'].value_counts()\n\ncollisions = collisions[pd.notnull(collisions['WEATHER'])]\ncollisions = collisions.reset_index(drop=True)\n\n# TODO: Remove \"Other\"\nweathertype = preprocessing.LabelEncoder()\nweathertype.fit(['Clear','Raining', 'Overcast', 'Snowing', 'Fog/Smog/Smoke', 'Other', 'Sleet/Hail/Freezing Rain','Blowing Sand/Dirt','Severe Crosswind','Partly Cloudy'])\ncollisions['WEATHER'] = weathertype.transform(collisions['WEATHER'])\n\ncollisions.shape"
        },
        {
            "cell_type": "code",
            "execution_count": 12,
            "metadata": {},
            "outputs": [
                {
                    "data": {
                        "text/plain": "(169791, 10)"
                    },
                    "execution_count": 12,
                    "metadata": {},
                    "output_type": "execute_result"
                }
            ],
            "source": "collisions['LIGHTCOND'].value_counts()\n\ncollisions = collisions[pd.notnull(collisions['LIGHTCOND'])]\ncollisions = collisions.reset_index(drop=True)\n\n# TODO: Remove \"Other\" & Combine \"Dark\"\nlight_type = preprocessing.LabelEncoder()\nlight_type.fit(['Daylight','Dark - Street Lights On', 'Dusk', 'Dawn', 'Dark - No Street Lights', 'Dark - Street Lights Off', 'Other','Dark - Unknown Lighting'])\ncollisions['LIGHTCOND'] = light_type.transform(collisions['LIGHTCOND'])\n\ncollisions.shape"
        },
        {
            "cell_type": "code",
            "execution_count": 13,
            "metadata": {},
            "outputs": [
                {
                    "data": {
                        "text/plain": "(169759, 10)"
                    },
                    "execution_count": 13,
                    "metadata": {},
                    "output_type": "execute_result"
                }
            ],
            "source": "collisions['ROADCOND'].value_counts()\n\ncollisions = collisions[pd.notnull(collisions['ROADCOND'])]\ncollisions = collisions.reset_index(drop=True)\n\n# TODO: Remove \"Other\" & Combine \"Dark\"\nroadcond = preprocessing.LabelEncoder()\nroadcond.fit(['Dry','Wet','Ice','Snow/Slush','Other','Standing Water','Sand/Mud/Dirt','Oil'])\ncollisions['ROADCOND'] = roadcond.transform(collisions['ROADCOND'])\n\ncollisions.shape"
        },
        {
            "cell_type": "code",
            "execution_count": 15,
            "metadata": {},
            "outputs": [
                {
                    "data": {
                        "text/html": "<div>\n<style scoped>\n    .dataframe tbody tr th:only-of-type {\n        vertical-align: middle;\n    }\n\n    .dataframe tbody tr th {\n        vertical-align: top;\n    }\n\n    .dataframe thead th {\n        text-align: right;\n    }\n</style>\n<table border=\"1\" class=\"dataframe\">\n  <thead>\n    <tr style=\"text-align: right;\">\n      <th></th>\n      <th>SEVERITYCODE</th>\n      <th>ADDRTYPE</th>\n      <th>COLLISIONTYPE</th>\n      <th>WEATHER</th>\n      <th>LIGHTCOND</th>\n      <th>ROADCOND</th>\n      <th>UNDERINFL</th>\n      <th>SPEEDING</th>\n      <th>INATTENTIONIND</th>\n      <th>HITPARKEDCAR</th>\n    </tr>\n  </thead>\n  <tbody>\n    <tr>\n      <th>0</th>\n      <td>2</td>\n      <td>2</td>\n      <td>0</td>\n      <td>4</td>\n      <td>5</td>\n      <td>7</td>\n      <td>0</td>\n      <td>0</td>\n      <td>0</td>\n      <td>0</td>\n    </tr>\n    <tr>\n      <th>1</th>\n      <td>1</td>\n      <td>1</td>\n      <td>9</td>\n      <td>6</td>\n      <td>2</td>\n      <td>7</td>\n      <td>0</td>\n      <td>0</td>\n      <td>0</td>\n      <td>0</td>\n    </tr>\n    <tr>\n      <th>2</th>\n      <td>1</td>\n      <td>1</td>\n      <td>5</td>\n      <td>4</td>\n      <td>5</td>\n      <td>0</td>\n      <td>0</td>\n      <td>0</td>\n      <td>0</td>\n      <td>0</td>\n    </tr>\n    <tr>\n      <th>3</th>\n      <td>1</td>\n      <td>1</td>\n      <td>4</td>\n      <td>1</td>\n      <td>5</td>\n      <td>0</td>\n      <td>0</td>\n      <td>0</td>\n      <td>0</td>\n      <td>0</td>\n    </tr>\n    <tr>\n      <th>4</th>\n      <td>2</td>\n      <td>2</td>\n      <td>0</td>\n      <td>6</td>\n      <td>5</td>\n      <td>7</td>\n      <td>0</td>\n      <td>0</td>\n      <td>0</td>\n      <td>0</td>\n    </tr>\n  </tbody>\n</table>\n</div>",
                        "text/plain": "   SEVERITYCODE  ADDRTYPE  COLLISIONTYPE  WEATHER  LIGHTCOND  ROADCOND  \\\n0             2         2              0        4          5         7   \n1             1         1              9        6          2         7   \n2             1         1              5        4          5         0   \n3             1         1              4        1          5         0   \n4             2         2              0        6          5         7   \n\n  UNDERINFL  SPEEDING  INATTENTIONIND  HITPARKEDCAR  \n0         0         0               0             0  \n1         0         0               0             0  \n2         0         0               0             0  \n3         0         0               0             0  \n4         0         0               0             0  "
                    },
                    "execution_count": 15,
                    "metadata": {},
                    "output_type": "execute_result"
                }
            ],
            "source": "collisions.head()"
        },
        {
            "cell_type": "code",
            "execution_count": 17,
            "metadata": {},
            "outputs": [
                {
                    "data": {
                        "text/plain": "array([[2, 0, 4, 5, 7, 0, 0, 0, 0],\n       [1, 9, 6, 2, 7, '0', 0, 0, 0],\n       [1, 5, 4, 5, 0, '0', 0, 0, 0],\n       [1, 4, 1, 5, 0, 0, 0, 0, 0],\n       [2, 0, 6, 5, 7, '0', 0, 0, 0]], dtype=object)"
                    },
                    "execution_count": 17,
                    "metadata": {},
                    "output_type": "execute_result"
                }
            ],
            "source": "X = collisions[['ADDRTYPE','COLLISIONTYPE','WEATHER','LIGHTCOND','ROADCOND','UNDERINFL','SPEEDING','INATTENTIONIND','HITPARKEDCAR']].values\nX[0:5]"
        },
        {
            "cell_type": "code",
            "execution_count": 18,
            "metadata": {},
            "outputs": [
                {
                    "data": {
                        "text/plain": "0    2\n1    1\n2    1\n3    1\n4    2\nName: SEVERITYCODE, dtype: int64"
                    },
                    "execution_count": 18,
                    "metadata": {},
                    "output_type": "execute_result"
                }
            ],
            "source": "y = collisions['SEVERITYCODE']\ny[0:5]"
        },
        {
            "cell_type": "code",
            "execution_count": 19,
            "metadata": {},
            "outputs": [],
            "source": "X_trainset, X_testset, y_trainset, y_testset = train_test_split(X, y, test_size=0.3, random_state=3)"
        },
        {
            "cell_type": "code",
            "execution_count": 21,
            "metadata": {},
            "outputs": [
                {
                    "name": "stdout",
                    "output_type": "stream",
                    "text": "X Train Set:  (118831, 9)\nY Train Set:  (118831,)\nX Test Set:  (50928, 9)\nY Test Set:  (50928,)\n"
                }
            ],
            "source": "print(\"X Train Set: \", X_trainset.shape)\nprint(\"Y Train Set: \",  y_trainset.shape)\nprint(\"X Test Set: \", X_testset.shape)\nprint(\"Y Test Set: \",  y_testset.shape)"
        },
        {
            "cell_type": "markdown",
            "metadata": {},
            "source": "## Decision Tree"
        },
        {
            "cell_type": "code",
            "execution_count": 26,
            "metadata": {},
            "outputs": [
                {
                    "data": {
                        "text/plain": "DecisionTreeClassifier(class_weight=None, criterion='entropy', max_depth=4,\n            max_features=None, max_leaf_nodes=None,\n            min_impurity_decrease=0.0, min_impurity_split=None,\n            min_samples_leaf=1, min_samples_split=2,\n            min_weight_fraction_leaf=0.0, presort=False, random_state=None,\n            splitter='best')"
                    },
                    "execution_count": 26,
                    "metadata": {},
                    "output_type": "execute_result"
                }
            ],
            "source": "SeverityTree = DecisionTreeClassifier(criterion=\"entropy\", max_depth = 4)\nSeverityTree"
        },
        {
            "cell_type": "code",
            "execution_count": 27,
            "metadata": {},
            "outputs": [
                {
                    "data": {
                        "text/plain": "DecisionTreeClassifier(class_weight=None, criterion='entropy', max_depth=4,\n            max_features=None, max_leaf_nodes=None,\n            min_impurity_decrease=0.0, min_impurity_split=None,\n            min_samples_leaf=1, min_samples_split=2,\n            min_weight_fraction_leaf=0.0, presort=False, random_state=None,\n            splitter='best')"
                    },
                    "execution_count": 27,
                    "metadata": {},
                    "output_type": "execute_result"
                }
            ],
            "source": "SeverityTree.fit(X_trainset, y_trainset)"
        },
        {
            "cell_type": "code",
            "execution_count": 28,
            "metadata": {},
            "outputs": [],
            "source": "predTree = SeverityTree.predict(X_testset)"
        },
        {
            "cell_type": "code",
            "execution_count": 29,
            "metadata": {},
            "outputs": [
                {
                    "name": "stdout",
                    "output_type": "stream",
                    "text": "DecisionTrees's Accuracy:  0.700930725730443\n"
                }
            ],
            "source": "from sklearn import metrics\nimport matplotlib.pyplot as plt\nprint(\"DecisionTrees's Accuracy: \", metrics.accuracy_score(y_testset, predTree))"
        },
        {
            "cell_type": "markdown",
            "metadata": {},
            "source": "## Logistic Regression"
        },
        {
            "cell_type": "code",
            "execution_count": 30,
            "metadata": {},
            "outputs": [
                {
                    "name": "stderr",
                    "output_type": "stream",
                    "text": "/opt/conda/envs/Python36/lib/python3.6/site-packages/sklearn/utils/validation.py:595: DataConversionWarning: Data with input dtype object was converted to float64 by StandardScaler.\n  warnings.warn(msg, DataConversionWarning)\n/opt/conda/envs/Python36/lib/python3.6/site-packages/sklearn/utils/validation.py:595: DataConversionWarning: Data with input dtype object was converted to float64 by StandardScaler.\n  warnings.warn(msg, DataConversionWarning)\n"
                },
                {
                    "data": {
                        "text/plain": "array([[ 1.3187838 , -1.53951887,  0.72412238,  0.604335  ,  1.61982777,\n        -0.23615186, -0.23789845,  0.        , -0.17058177],\n       [-0.73583542,  1.58065954,  1.6800851 , -1.47611814,  1.61982777,\n        -0.23615186, -0.23789845,  0.        , -0.17058177],\n       [-0.73583542,  0.19391358,  0.72412238,  0.604335  , -0.62415344,\n        -0.23615186, -0.23789845,  0.        , -0.17058177],\n       [-0.73583542, -0.15277291, -0.70982171,  0.604335  , -0.62415344,\n        -0.23615186, -0.23789845,  0.        , -0.17058177],\n       [ 1.3187838 , -1.53951887,  1.6800851 ,  0.604335  ,  1.61982777,\n        -0.23615186, -0.23789845,  0.        , -0.17058177]])"
                    },
                    "execution_count": 30,
                    "metadata": {},
                    "output_type": "execute_result"
                }
            ],
            "source": "X = preprocessing.StandardScaler().fit(X).transform(X)\nX[0:5]"
        },
        {
            "cell_type": "code",
            "execution_count": 35,
            "metadata": {},
            "outputs": [
                {
                    "data": {
                        "text/plain": "LogisticRegression(C=0.01, class_weight=None, dual=False, fit_intercept=True,\n          intercept_scaling=1, max_iter=100, multi_class='warn',\n          n_jobs=None, penalty='l2', random_state=None, solver='liblinear',\n          tol=0.0001, verbose=0, warm_start=False)"
                    },
                    "execution_count": 35,
                    "metadata": {},
                    "output_type": "execute_result"
                }
            ],
            "source": "from sklearn.linear_model import LogisticRegression\nfrom sklearn.metrics import confusion_matrix\nfrom sklearn.metrics import jaccard_similarity_score\nLR = LogisticRegression(C=0.01, solver='liblinear').fit(X_trainset,y_trainset)\nLR"
        },
        {
            "cell_type": "code",
            "execution_count": 36,
            "metadata": {},
            "outputs": [
                {
                    "data": {
                        "text/plain": "array([1, 1, 1, ..., 2, 1, 1])"
                    },
                    "execution_count": 36,
                    "metadata": {},
                    "output_type": "execute_result"
                }
            ],
            "source": "y = LR.predict(X_testset)\ny"
        },
        {
            "cell_type": "code",
            "execution_count": 37,
            "metadata": {},
            "outputs": [
                {
                    "data": {
                        "text/plain": "0.6712613886270814"
                    },
                    "execution_count": 37,
                    "metadata": {},
                    "output_type": "execute_result"
                }
            ],
            "source": "jaccard_similarity_score(y_testset, y)\n"
        },
        {
            "cell_type": "code",
            "execution_count": null,
            "metadata": {},
            "outputs": [],
            "source": ""
        }
    ],
    "metadata": {
        "kernelspec": {
            "display_name": "Python 3.6",
            "language": "python",
            "name": "python3"
        },
        "language_info": {
            "codemirror_mode": {
                "name": "ipython",
                "version": 3
            },
            "file_extension": ".py",
            "mimetype": "text/x-python",
            "name": "python",
            "nbconvert_exporter": "python",
            "pygments_lexer": "ipython3",
            "version": "3.6.9"
        }
    },
    "nbformat": 4,
    "nbformat_minor": 1
}