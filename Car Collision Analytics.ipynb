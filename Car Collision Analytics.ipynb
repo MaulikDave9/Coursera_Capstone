{
 "cells": [
  {
   "cell_type": "code",
   "execution_count": 141,
   "metadata": {},
   "outputs": [],
   "source": [
    "import numpy as np  \n",
    "import pandas as pd \n",
    "import matplotlib.pyplot as plt\n",
    "\n",
    "from sklearn import preprocessing\n",
    "from sklearn import metrics\n",
    "from sklearn.model_selection import train_test_split\n",
    "\n",
    "from sklearn.tree import DecisionTreeClassifier\n",
    "from sklearn.linear_model import LogisticRegression\n",
    "from sklearn import svm\n",
    "\n",
    "from sklearn.metrics import classification_report, confusion_matrix\n",
    "from sklearn.metrics import jaccard_similarity_score\n",
    "from sklearn.metrics import f1_score\n",
    "from sklearn.metrics import log_loss\n",
    "import itertools"
   ]
  },
  {
   "cell_type": "code",
   "execution_count": 142,
   "metadata": {},
   "outputs": [
    {
     "name": "stderr",
     "output_type": "stream",
     "text": [
      "/home/jupyterlab/conda/envs/python/lib/python3.6/site-packages/IPython/core/interactiveshell.py:3072: DtypeWarning: Columns (33) have mixed types.Specify dtype option on import or set low_memory=False.\n",
      "  interactivity=interactivity, compiler=compiler, result=result)\n"
     ]
    }
   ],
   "source": [
    "filename = 'https://s3.us.cloud-object-storage.appdomain.cloud/cf-courses-data/CognitiveClass/DP0701EN/version-2/Data-Collisions.csv'\n",
    "df = pd.read_csv(filename)"
   ]
  },
  {
   "cell_type": "code",
   "execution_count": 143,
   "metadata": {},
   "outputs": [
    {
     "data": {
      "text/plain": [
       "Index(['SEVERITYCODE', 'X', 'Y', 'OBJECTID', 'INCKEY', 'COLDETKEY', 'REPORTNO',\n",
       "       'STATUS', 'ADDRTYPE', 'INTKEY', 'LOCATION', 'EXCEPTRSNCODE',\n",
       "       'EXCEPTRSNDESC', 'SEVERITYCODE.1', 'SEVERITYDESC', 'COLLISIONTYPE',\n",
       "       'PERSONCOUNT', 'PEDCOUNT', 'PEDCYLCOUNT', 'VEHCOUNT', 'INCDATE',\n",
       "       'INCDTTM', 'JUNCTIONTYPE', 'SDOT_COLCODE', 'SDOT_COLDESC',\n",
       "       'INATTENTIONIND', 'UNDERINFL', 'WEATHER', 'ROADCOND', 'LIGHTCOND',\n",
       "       'PEDROWNOTGRNT', 'SDOTCOLNUM', 'SPEEDING', 'ST_COLCODE', 'ST_COLDESC',\n",
       "       'SEGLANEKEY', 'CROSSWALKKEY', 'HITPARKEDCAR'],\n",
       "      dtype='object')"
      ]
     },
     "execution_count": 143,
     "metadata": {},
     "output_type": "execute_result"
    }
   ],
   "source": [
    "df.columns"
   ]
  },
  {
   "cell_type": "code",
   "execution_count": 144,
   "metadata": {},
   "outputs": [
    {
     "data": {
      "text/plain": [
       "(194673, 15)"
      ]
     },
     "execution_count": 144,
     "metadata": {},
     "output_type": "execute_result"
    }
   ],
   "source": [
    "# Create Dataframe with relevant columns\n",
    "collisions = df[['SEVERITYCODE', 'ADDRTYPE', 'COLLISIONTYPE','PERSONCOUNT', 'PEDCOUNT', 'PEDCYLCOUNT', 'VEHCOUNT', 'JUNCTIONTYPE', 'INATTENTIONIND', 'WEATHER', 'ROADCOND', 'LIGHTCOND', 'UNDERINFL','SPEEDING','HITPARKEDCAR']]\n",
    "collisions.shape"
   ]
  },
  {
   "cell_type": "markdown",
   "metadata": {},
   "source": [
    "## Data Cleaning"
   ]
  },
  {
   "cell_type": "code",
   "execution_count": 145,
   "metadata": {},
   "outputs": [],
   "source": [
    "# Removing Rows where Feature values are unknowns\n",
    "collisions = collisions[collisions['JUNCTIONTYPE'] != \"Unknown\"]\n",
    "collisions = collisions[collisions['WEATHER'] != \"Unknown\"]\n",
    "collisions = collisions[collisions['ROADCOND'] != \"Unknown\"]\n",
    "collisions = collisions[collisions['LIGHTCOND'] != \"Unknown\"]\n",
    "\n",
    "# Speeding NaN with No! \n",
    "collisions['SPEEDING'] = collisions['SPEEDING'].fillna('N')\n",
    "collisions['INATTENTIONIND'] = collisions['INATTENTIONIND'].fillna('N')\n",
    "\n",
    "# Drop NaN\n",
    "collisions.dropna()\n",
    "collisions = collisions.reset_index(drop=True)"
   ]
  },
  {
   "cell_type": "code",
   "execution_count": 146,
   "metadata": {},
   "outputs": [
    {
     "data": {
      "text/plain": [
       "(175763, 15)"
      ]
     },
     "execution_count": 146,
     "metadata": {},
     "output_type": "execute_result"
    }
   ],
   "source": [
    "collisions.shape"
   ]
  },
  {
   "cell_type": "code",
   "execution_count": 147,
   "metadata": {},
   "outputs": [],
   "source": [
    "# Convert Y and N to 1 and 0 (numerical values)\n",
    "collisions['INATTENTIONIND'].replace('N',0, inplace=True)\n",
    "collisions['INATTENTIONIND'].replace('Y',0, inplace=True)\n",
    "\n",
    "collisions['SPEEDING'].replace('N',0, inplace=True)\n",
    "collisions['SPEEDING'].replace('Y',1, inplace=True)\n",
    "\n",
    "\n",
    "collisions['HITPARKEDCAR'].replace('N',0, inplace=True)\n",
    "collisions['HITPARKEDCAR'].replace('Y',1, inplace=True)\n",
    "\n",
    "collisions['UNDERINFL'].replace('N',0, inplace=True)\n",
    "collisions['UNDERINFL'].replace('Y',1, inplace=True)"
   ]
  },
  {
   "cell_type": "code",
   "execution_count": 148,
   "metadata": {},
   "outputs": [
    {
     "data": {
      "text/html": [
       "<div>\n",
       "<style scoped>\n",
       "    .dataframe tbody tr th:only-of-type {\n",
       "        vertical-align: middle;\n",
       "    }\n",
       "\n",
       "    .dataframe tbody tr th {\n",
       "        vertical-align: top;\n",
       "    }\n",
       "\n",
       "    .dataframe thead th {\n",
       "        text-align: right;\n",
       "    }\n",
       "</style>\n",
       "<table border=\"1\" class=\"dataframe\">\n",
       "  <thead>\n",
       "    <tr style=\"text-align: right;\">\n",
       "      <th></th>\n",
       "      <th>SEVERITYCODE</th>\n",
       "      <th>ADDRTYPE</th>\n",
       "      <th>COLLISIONTYPE</th>\n",
       "      <th>WEATHER</th>\n",
       "      <th>LIGHTCOND</th>\n",
       "      <th>ROADCOND</th>\n",
       "      <th>UNDERINFL</th>\n",
       "      <th>SPEEDING</th>\n",
       "      <th>INATTENTIONIND</th>\n",
       "      <th>HITPARKEDCAR</th>\n",
       "    </tr>\n",
       "  </thead>\n",
       "  <tbody>\n",
       "    <tr>\n",
       "      <th>0</th>\n",
       "      <td>2</td>\n",
       "      <td>Intersection</td>\n",
       "      <td>Angles</td>\n",
       "      <td>Overcast</td>\n",
       "      <td>Daylight</td>\n",
       "      <td>Wet</td>\n",
       "      <td>0</td>\n",
       "      <td>0</td>\n",
       "      <td>0</td>\n",
       "      <td>0</td>\n",
       "    </tr>\n",
       "    <tr>\n",
       "      <th>1</th>\n",
       "      <td>1</td>\n",
       "      <td>Block</td>\n",
       "      <td>Sideswipe</td>\n",
       "      <td>Raining</td>\n",
       "      <td>Dark - Street Lights On</td>\n",
       "      <td>Wet</td>\n",
       "      <td>0</td>\n",
       "      <td>0</td>\n",
       "      <td>0</td>\n",
       "      <td>0</td>\n",
       "    </tr>\n",
       "    <tr>\n",
       "      <th>2</th>\n",
       "      <td>1</td>\n",
       "      <td>Block</td>\n",
       "      <td>Parked Car</td>\n",
       "      <td>Overcast</td>\n",
       "      <td>Daylight</td>\n",
       "      <td>Dry</td>\n",
       "      <td>0</td>\n",
       "      <td>0</td>\n",
       "      <td>0</td>\n",
       "      <td>0</td>\n",
       "    </tr>\n",
       "    <tr>\n",
       "      <th>3</th>\n",
       "      <td>1</td>\n",
       "      <td>Block</td>\n",
       "      <td>Other</td>\n",
       "      <td>Clear</td>\n",
       "      <td>Daylight</td>\n",
       "      <td>Dry</td>\n",
       "      <td>0</td>\n",
       "      <td>0</td>\n",
       "      <td>0</td>\n",
       "      <td>0</td>\n",
       "    </tr>\n",
       "    <tr>\n",
       "      <th>4</th>\n",
       "      <td>2</td>\n",
       "      <td>Intersection</td>\n",
       "      <td>Angles</td>\n",
       "      <td>Raining</td>\n",
       "      <td>Daylight</td>\n",
       "      <td>Wet</td>\n",
       "      <td>0</td>\n",
       "      <td>0</td>\n",
       "      <td>0</td>\n",
       "      <td>0</td>\n",
       "    </tr>\n",
       "  </tbody>\n",
       "</table>\n",
       "</div>"
      ],
      "text/plain": [
       "   SEVERITYCODE      ADDRTYPE COLLISIONTYPE   WEATHER  \\\n",
       "0             2  Intersection        Angles  Overcast   \n",
       "1             1         Block     Sideswipe   Raining   \n",
       "2             1         Block    Parked Car  Overcast   \n",
       "3             1         Block         Other     Clear   \n",
       "4             2  Intersection        Angles   Raining   \n",
       "\n",
       "                 LIGHTCOND ROADCOND UNDERINFL  SPEEDING  INATTENTIONIND  \\\n",
       "0                 Daylight      Wet         0         0               0   \n",
       "1  Dark - Street Lights On      Wet         0         0               0   \n",
       "2                 Daylight      Dry         0         0               0   \n",
       "3                 Daylight      Dry         0         0               0   \n",
       "4                 Daylight      Wet         0         0               0   \n",
       "\n",
       "   HITPARKEDCAR  \n",
       "0             0  \n",
       "1             0  \n",
       "2             0  \n",
       "3             0  \n",
       "4             0  "
      ]
     },
     "execution_count": 148,
     "metadata": {},
     "output_type": "execute_result"
    }
   ],
   "source": [
    "# Subframe - with relevant Features for Model.\n",
    "collisions = collisions[['SEVERITYCODE', 'ADDRTYPE', 'COLLISIONTYPE','WEATHER', 'LIGHTCOND','ROADCOND', 'UNDERINFL','SPEEDING','INATTENTIONIND', 'HITPARKEDCAR']]\n",
    "collisions.head()"
   ]
  },
  {
   "cell_type": "code",
   "execution_count": 149,
   "metadata": {},
   "outputs": [
    {
     "data": {
      "text/plain": [
       "(174926, 10)"
      ]
     },
     "execution_count": 149,
     "metadata": {},
     "output_type": "execute_result"
    }
   ],
   "source": [
    "# Categorical Variable to Numeric values.\n",
    "collisions['ADDRTYPE'].value_counts()\n",
    "collisions = collisions[pd.notnull(collisions['ADDRTYPE'])]\n",
    "collisions = collisions.reset_index(drop=True)\n",
    "\n",
    "addrtype = preprocessing.LabelEncoder()\n",
    "addrtype.fit(['Block','Intersection','Alley'])\n",
    "collisions['ADDRTYPE'] = addrtype.transform(collisions['ADDRTYPE'])\n",
    "\n",
    "collisions.shape"
   ]
  },
  {
   "cell_type": "code",
   "execution_count": 150,
   "metadata": {},
   "outputs": [
    {
     "data": {
      "text/plain": [
       "(147595, 10)"
      ]
     },
     "execution_count": 150,
     "metadata": {},
     "output_type": "execute_result"
    }
   ],
   "source": [
    "collisions['COLLISIONTYPE'].value_counts()\n",
    "collisions = collisions[pd.notnull(collisions['COLLISIONTYPE'])]\n",
    "collisions = collisions.reset_index(drop=True)\n",
    "\n",
    "# Remove \"Other\"\n",
    "collisions = collisions[collisions.COLLISIONTYPE != 'Other']\n",
    "\n",
    "colltype = preprocessing.LabelEncoder()\n",
    "colltype.fit(['Angles','Parked Car','Rear Ended','Rear Ended','Sideswipe','Left Turn','Pedestrian','Cycles','Right Turn','Head On'])\n",
    "collisions['COLLISIONTYPE'] = colltype.transform(collisions['COLLISIONTYPE'])\n",
    "\n",
    "collisions.shape"
   ]
  },
  {
   "cell_type": "code",
   "execution_count": 151,
   "metadata": {},
   "outputs": [
    {
     "data": {
      "text/plain": [
       "(147253, 10)"
      ]
     },
     "execution_count": 151,
     "metadata": {},
     "output_type": "execute_result"
    }
   ],
   "source": [
    "collisions['WEATHER'].value_counts()\n",
    "\n",
    "collisions = collisions[pd.notnull(collisions['WEATHER'])]\n",
    "collisions = collisions.reset_index(drop=True)\n",
    "\n",
    "# Remove \"Other\"\n",
    "collisions = collisions[collisions.WEATHER != 'Other']\n",
    "\n",
    "weathertype = preprocessing.LabelEncoder()\n",
    "weathertype.fit(['Clear','Raining', 'Overcast', 'Snowing', 'Fog/Smog/Smoke', 'Sleet/Hail/Freezing Rain','Blowing Sand/Dirt','Severe Crosswind','Partly Cloudy'])\n",
    "collisions['WEATHER'] = weathertype.transform(collisions['WEATHER'])\n",
    "\n",
    "collisions.shape"
   ]
  },
  {
   "cell_type": "code",
   "execution_count": 152,
   "metadata": {},
   "outputs": [
    {
     "data": {
      "text/plain": [
       "(146967, 10)"
      ]
     },
     "execution_count": 152,
     "metadata": {},
     "output_type": "execute_result"
    }
   ],
   "source": [
    "collisions['LIGHTCOND'].value_counts()\n",
    "\n",
    "collisions = collisions[pd.notnull(collisions['LIGHTCOND'])]\n",
    "collisions = collisions.reset_index(drop=True)\n",
    "\n",
    "collisions = collisions[collisions.LIGHTCOND != 'Other']\n",
    "collisions['LIGHTCOND'] = collisions['LIGHTCOND'].replace('Dark - Street Lights On', 'Dark')\n",
    "collisions['LIGHTCOND'] = collisions['LIGHTCOND'].replace('Dark - No Street Lights', 'Dark')\n",
    "collisions['LIGHTCOND'] = collisions['LIGHTCOND'].replace('Dark - Street Lights Off','Dark')\n",
    "collisions['LIGHTCOND'] = collisions['LIGHTCOND'].replace('Dark - Unknown Lighting', 'Dark')\n",
    "\n",
    "light_type = preprocessing.LabelEncoder()\n",
    "light_type.fit(['Daylight','Dark', 'Dusk', 'Dawn'])\n",
    "collisions['LIGHTCOND'] = light_type.transform(collisions['LIGHTCOND'])\n",
    "\n",
    "collisions.shape"
   ]
  },
  {
   "cell_type": "code",
   "execution_count": 153,
   "metadata": {},
   "outputs": [
    {
     "data": {
      "text/plain": [
       "(146880, 10)"
      ]
     },
     "execution_count": 153,
     "metadata": {},
     "output_type": "execute_result"
    }
   ],
   "source": [
    "collisions['ROADCOND'].value_counts()\n",
    "\n",
    "collisions = collisions[pd.notnull(collisions['ROADCOND'])]\n",
    "collisions = collisions.reset_index(drop=True)\n",
    "\n",
    "collisions = collisions[collisions.ROADCOND != 'Other']\n",
    "\n",
    "\n",
    "roadcond = preprocessing.LabelEncoder()\n",
    "roadcond.fit(['Dry','Wet','Ice','Snow/Slush','Standing Water','Sand/Mud/Dirt','Oil'])\n",
    "collisions['ROADCOND'] = roadcond.transform(collisions['ROADCOND'])\n",
    "\n",
    "collisions.shape"
   ]
  },
  {
   "cell_type": "code",
   "execution_count": 154,
   "metadata": {},
   "outputs": [
    {
     "data": {
      "text/html": [
       "<div>\n",
       "<style scoped>\n",
       "    .dataframe tbody tr th:only-of-type {\n",
       "        vertical-align: middle;\n",
       "    }\n",
       "\n",
       "    .dataframe tbody tr th {\n",
       "        vertical-align: top;\n",
       "    }\n",
       "\n",
       "    .dataframe thead th {\n",
       "        text-align: right;\n",
       "    }\n",
       "</style>\n",
       "<table border=\"1\" class=\"dataframe\">\n",
       "  <thead>\n",
       "    <tr style=\"text-align: right;\">\n",
       "      <th></th>\n",
       "      <th>SEVERITYCODE</th>\n",
       "      <th>ADDRTYPE</th>\n",
       "      <th>COLLISIONTYPE</th>\n",
       "      <th>WEATHER</th>\n",
       "      <th>LIGHTCOND</th>\n",
       "      <th>ROADCOND</th>\n",
       "      <th>UNDERINFL</th>\n",
       "      <th>SPEEDING</th>\n",
       "      <th>INATTENTIONIND</th>\n",
       "      <th>HITPARKEDCAR</th>\n",
       "    </tr>\n",
       "  </thead>\n",
       "  <tbody>\n",
       "    <tr>\n",
       "      <th>0</th>\n",
       "      <td>2</td>\n",
       "      <td>2</td>\n",
       "      <td>0</td>\n",
       "      <td>3</td>\n",
       "      <td>2</td>\n",
       "      <td>6</td>\n",
       "      <td>0</td>\n",
       "      <td>0</td>\n",
       "      <td>0</td>\n",
       "      <td>0</td>\n",
       "    </tr>\n",
       "    <tr>\n",
       "      <th>1</th>\n",
       "      <td>1</td>\n",
       "      <td>1</td>\n",
       "      <td>8</td>\n",
       "      <td>5</td>\n",
       "      <td>0</td>\n",
       "      <td>6</td>\n",
       "      <td>0</td>\n",
       "      <td>0</td>\n",
       "      <td>0</td>\n",
       "      <td>0</td>\n",
       "    </tr>\n",
       "    <tr>\n",
       "      <th>2</th>\n",
       "      <td>1</td>\n",
       "      <td>1</td>\n",
       "      <td>4</td>\n",
       "      <td>3</td>\n",
       "      <td>2</td>\n",
       "      <td>0</td>\n",
       "      <td>0</td>\n",
       "      <td>0</td>\n",
       "      <td>0</td>\n",
       "      <td>0</td>\n",
       "    </tr>\n",
       "    <tr>\n",
       "      <th>3</th>\n",
       "      <td>2</td>\n",
       "      <td>2</td>\n",
       "      <td>0</td>\n",
       "      <td>5</td>\n",
       "      <td>2</td>\n",
       "      <td>6</td>\n",
       "      <td>0</td>\n",
       "      <td>0</td>\n",
       "      <td>0</td>\n",
       "      <td>0</td>\n",
       "    </tr>\n",
       "    <tr>\n",
       "      <th>4</th>\n",
       "      <td>1</td>\n",
       "      <td>2</td>\n",
       "      <td>0</td>\n",
       "      <td>1</td>\n",
       "      <td>2</td>\n",
       "      <td>0</td>\n",
       "      <td>0</td>\n",
       "      <td>0</td>\n",
       "      <td>0</td>\n",
       "      <td>0</td>\n",
       "    </tr>\n",
       "  </tbody>\n",
       "</table>\n",
       "</div>"
      ],
      "text/plain": [
       "   SEVERITYCODE  ADDRTYPE  COLLISIONTYPE  WEATHER  LIGHTCOND  ROADCOND  \\\n",
       "0             2         2              0        3          2         6   \n",
       "1             1         1              8        5          0         6   \n",
       "2             1         1              4        3          2         0   \n",
       "3             2         2              0        5          2         6   \n",
       "4             1         2              0        1          2         0   \n",
       "\n",
       "  UNDERINFL  SPEEDING  INATTENTIONIND  HITPARKEDCAR  \n",
       "0         0         0               0             0  \n",
       "1         0         0               0             0  \n",
       "2         0         0               0             0  \n",
       "3         0         0               0             0  \n",
       "4         0         0               0             0  "
      ]
     },
     "execution_count": 154,
     "metadata": {},
     "output_type": "execute_result"
    }
   ],
   "source": [
    "collisions.head()"
   ]
  },
  {
   "cell_type": "code",
   "execution_count": 155,
   "metadata": {},
   "outputs": [
    {
     "data": {
      "text/plain": [
       "array([[2, 0, 3, 2, 6, 0, 0, 0, 0],\n",
       "       [1, 8, 5, 0, 6, '0', 0, 0, 0],\n",
       "       [1, 4, 3, 2, 0, '0', 0, 0, 0],\n",
       "       [2, 0, 5, 2, 6, '0', 0, 0, 0],\n",
       "       [2, 0, 1, 2, 0, 0, 0, 0, 0]], dtype=object)"
      ]
     },
     "execution_count": 155,
     "metadata": {},
     "output_type": "execute_result"
    }
   ],
   "source": [
    "X = collisions[['ADDRTYPE','COLLISIONTYPE','WEATHER','LIGHTCOND','ROADCOND','UNDERINFL','SPEEDING','INATTENTIONIND','HITPARKEDCAR']].values\n",
    "X[0:5]"
   ]
  },
  {
   "cell_type": "code",
   "execution_count": 156,
   "metadata": {},
   "outputs": [
    {
     "name": "stderr",
     "output_type": "stream",
     "text": [
      "/home/jupyterlab/conda/envs/python/lib/python3.6/site-packages/sklearn/utils/validation.py:595: DataConversionWarning: Data with input dtype object was converted to float64 by StandardScaler.\n",
      "  warnings.warn(msg, DataConversionWarning)\n",
      "/home/jupyterlab/conda/envs/python/lib/python3.6/site-packages/sklearn/utils/validation.py:595: DataConversionWarning: Data with input dtype object was converted to float64 by StandardScaler.\n",
      "  warnings.warn(msg, DataConversionWarning)\n"
     ]
    },
    {
     "data": {
      "text/plain": [
       "array([[ 1.24, -1.45,  0.56,  0.57,  1.66, -0.21, -0.2 ,  0.  , -0.18],\n",
       "       [-0.79,  1.54,  1.79, -1.59,  1.66, -0.21, -0.2 ,  0.  , -0.18],\n",
       "       [-0.79,  0.05,  0.56,  0.57, -0.61, -0.21, -0.2 ,  0.  , -0.18],\n",
       "       [ 1.24, -1.45,  1.79,  0.57,  1.66, -0.21, -0.2 ,  0.  , -0.18],\n",
       "       [ 1.24, -1.45, -0.67,  0.57, -0.61, -0.21, -0.2 ,  0.  , -0.18]])"
      ]
     },
     "execution_count": 156,
     "metadata": {},
     "output_type": "execute_result"
    }
   ],
   "source": [
    "X = preprocessing.StandardScaler().fit(X).transform(X)\n",
    "X[0:5]"
   ]
  },
  {
   "cell_type": "code",
   "execution_count": 157,
   "metadata": {},
   "outputs": [
    {
     "data": {
      "text/plain": [
       "0    2\n",
       "1    1\n",
       "2    1\n",
       "3    2\n",
       "4    1\n",
       "Name: SEVERITYCODE, dtype: int64"
      ]
     },
     "execution_count": 157,
     "metadata": {},
     "output_type": "execute_result"
    }
   ],
   "source": [
    "y = collisions['SEVERITYCODE']\n",
    "y[0:5]"
   ]
  },
  {
   "cell_type": "code",
   "execution_count": 158,
   "metadata": {},
   "outputs": [],
   "source": [
    "# 20 % for testing and 80% training data.\n",
    "X_trainset, X_testset, y_trainset, y_testset = train_test_split(X, y, test_size=0.2, random_state=3)"
   ]
  },
  {
   "cell_type": "code",
   "execution_count": 159,
   "metadata": {},
   "outputs": [
    {
     "name": "stdout",
     "output_type": "stream",
     "text": [
      "X Train Set:  (117504, 9)\n",
      "Y Train Set:  (117504,)\n",
      "X Test Set:  (29376, 9)\n",
      "Y Test Set:  (29376,)\n"
     ]
    }
   ],
   "source": [
    "print(\"X Train Set: \", X_trainset.shape)\n",
    "print(\"Y Train Set: \",  y_trainset.shape)\n",
    "print(\"X Test Set: \", X_testset.shape)\n",
    "print(\"Y Test Set: \",  y_testset.shape)"
   ]
  },
  {
   "cell_type": "code",
   "execution_count": null,
   "metadata": {},
   "outputs": [],
   "source": [
    "def plot_confusion_matrix(cm, classes,\n",
    "                          normalize=False,\n",
    "                          title='Confusion matrix',\n",
    "                          cmap=plt.cm.Blues):\n",
    "    \"\"\"\n",
    "    This function prints and plots the confusion matrix.\n",
    "    Normalization can be applied by setting `normalize=True`.\n",
    "    \"\"\"\n",
    "    if normalize:\n",
    "        cm = cm.astype('float') / cm.sum(axis=1)[:, np.newaxis]\n",
    "        print(\"Normalized confusion matrix\")\n",
    "    else:\n",
    "        print('Confusion matrix, without normalization')\n",
    "\n",
    "    print(cm)\n",
    "\n",
    "    plt.imshow(cm, interpolation='nearest', cmap=cmap)\n",
    "    plt.title(title)\n",
    "    plt.colorbar()\n",
    "    tick_marks = np.arange(len(classes))\n",
    "    plt.xticks(tick_marks, classes, rotation=45)\n",
    "    plt.yticks(tick_marks, classes)\n",
    "\n",
    "    fmt = '.2f' if normalize else 'd'\n",
    "    thresh = cm.max() / 2.\n",
    "    for i, j in itertools.product(range(cm.shape[0]), range(cm.shape[1])):\n",
    "        plt.text(j, i, format(cm[i, j], fmt),\n",
    "                 horizontalalignment=\"center\",\n",
    "                 color=\"white\" if cm[i, j] > thresh else \"black\")\n",
    "\n",
    "    plt.tight_layout()\n",
    "    plt.ylabel('True label')\n",
    "    plt.xlabel('Predicted label')"
   ]
  },
  {
   "cell_type": "markdown",
   "metadata": {},
   "source": [
    "## Decision Tree"
   ]
  },
  {
   "cell_type": "code",
   "execution_count": 167,
   "metadata": {},
   "outputs": [
    {
     "data": {
      "text/plain": [
       "DecisionTreeClassifier(class_weight=None, criterion='entropy', max_depth=4,\n",
       "            max_features=None, max_leaf_nodes=None,\n",
       "            min_impurity_decrease=0.0, min_impurity_split=None,\n",
       "            min_samples_leaf=1, min_samples_split=2,\n",
       "            min_weight_fraction_leaf=0.0, presort=False, random_state=None,\n",
       "            splitter='best')"
      ]
     },
     "execution_count": 167,
     "metadata": {},
     "output_type": "execute_result"
    }
   ],
   "source": [
    "SeverityTree = DecisionTreeClassifier(criterion=\"entropy\", max_depth = 4)\n",
    "SeverityTree"
   ]
  },
  {
   "cell_type": "code",
   "execution_count": 168,
   "metadata": {},
   "outputs": [
    {
     "data": {
      "text/plain": [
       "DecisionTreeClassifier(class_weight=None, criterion='entropy', max_depth=4,\n",
       "            max_features=None, max_leaf_nodes=None,\n",
       "            min_impurity_decrease=0.0, min_impurity_split=None,\n",
       "            min_samples_leaf=1, min_samples_split=2,\n",
       "            min_weight_fraction_leaf=0.0, presort=False, random_state=None,\n",
       "            splitter='best')"
      ]
     },
     "execution_count": 168,
     "metadata": {},
     "output_type": "execute_result"
    }
   ],
   "source": [
    "SeverityTree.fit(X_trainset, y_trainset)"
   ]
  },
  {
   "cell_type": "code",
   "execution_count": 172,
   "metadata": {},
   "outputs": [],
   "source": [
    "predTree = SeverityTree.predict(X_testset)"
   ]
  },
  {
   "cell_type": "code",
   "execution_count": 176,
   "metadata": {},
   "outputs": [],
   "source": [
    "predTree_prob = SeverityTree.predict_proba(X_testset)"
   ]
  },
  {
   "cell_type": "code",
   "execution_count": 177,
   "metadata": {},
   "outputs": [
    {
     "name": "stdout",
     "output_type": "stream",
     "text": [
      "DecisionTrees's Accuracy:  0.7043164488017429\n",
      "DecisionTrees's Jaccard Index:  0.7043164488017429\n",
      "DecisionTrees's F1 Score:  0.6387477397745317\n",
      "Decision Tree Log Loss:  0.5359590598294064\n"
     ]
    }
   ],
   "source": [
    "print(\"DecisionTrees's Accuracy: \", metrics.accuracy_score(y_testset, predTree))\n",
    "print(\"DecisionTrees's Jaccard Index: \", jaccard_similarity_score(y_testset, predTree))\n",
    "print(\"DecisionTrees's F1 Score: \", f1_score(y_testset, predTree,average='weighted'))\n",
    "print(\"Decision Tree Log Loss: \", log_loss(y_testset, predTree_prob))"
   ]
  },
  {
   "cell_type": "code",
   "execution_count": 178,
   "metadata": {},
   "outputs": [
    {
     "name": "stdout",
     "output_type": "stream",
     "text": [
      "              precision    recall  f1-score   support\n",
      "\n",
      "           1       0.70      0.97      0.81     19422\n",
      "           2       0.76      0.19      0.30      9954\n",
      "\n",
      "   micro avg       0.70      0.70      0.70     29376\n",
      "   macro avg       0.73      0.58      0.56     29376\n",
      "weighted avg       0.72      0.70      0.64     29376\n",
      "\n"
     ]
    }
   ],
   "source": [
    "print (classification_report(y_testset, predTree))\n"
   ]
  },
  {
   "cell_type": "code",
   "execution_count": null,
   "metadata": {},
   "outputs": [],
   "source": [
    "# Compute confusion matrix\n",
    "cnf_matrix = confusion_matrix(y_testset, predTree, labels=[1,2])\n",
    "np.set_printoptions(precision=2)\n",
    "\n",
    "# Plot non-normalized confusion matrix\n",
    "plt.figure()\n",
    "plot_confusion_matrix(cnf_matrix, classes=['SEVERITY=1','SEVERITY=2'],normalize= False,  title='Confusion matrix')"
   ]
  },
  {
   "cell_type": "markdown",
   "metadata": {},
   "source": [
    "## Logistic Regression"
   ]
  },
  {
   "cell_type": "code",
   "execution_count": 179,
   "metadata": {},
   "outputs": [
    {
     "data": {
      "text/plain": [
       "LogisticRegression(C=1, class_weight=None, dual=False, fit_intercept=True,\n",
       "          intercept_scaling=1, max_iter=100, multi_class='warn',\n",
       "          n_jobs=None, penalty='l2', random_state=None, solver='liblinear',\n",
       "          tol=0.0001, verbose=0, warm_start=False)"
      ]
     },
     "execution_count": 179,
     "metadata": {},
     "output_type": "execute_result"
    }
   ],
   "source": [
    "LR = LogisticRegression(C=1, solver='liblinear').fit(X_trainset,y_trainset)\n",
    "LR"
   ]
  },
  {
   "cell_type": "code",
   "execution_count": 180,
   "metadata": {},
   "outputs": [
    {
     "data": {
      "text/plain": [
       "array([1, 1, 1, ..., 1, 1, 1])"
      ]
     },
     "execution_count": 180,
     "metadata": {},
     "output_type": "execute_result"
    }
   ],
   "source": [
    "y = LR.predict(X_testset)\n",
    "y"
   ]
  },
  {
   "cell_type": "code",
   "execution_count": 181,
   "metadata": {},
   "outputs": [
    {
     "data": {
      "text/plain": [
       "array([[0.68, 0.32],\n",
       "       [0.71, 0.29],\n",
       "       [0.56, 0.44],\n",
       "       ...,\n",
       "       [0.75, 0.25],\n",
       "       [0.53, 0.47],\n",
       "       [0.64, 0.36]])"
      ]
     },
     "execution_count": 181,
     "metadata": {},
     "output_type": "execute_result"
    }
   ],
   "source": [
    "y_prob = LR.predict_proba(X_testset)\n",
    "y_prob"
   ]
  },
  {
   "cell_type": "code",
   "execution_count": 182,
   "metadata": {},
   "outputs": [
    {
     "name": "stdout",
     "output_type": "stream",
     "text": [
      "Logistic Regression Accuracy:  0.6621732026143791\n",
      "Logistic Regression Jaccard Similarity:  0.6621732026143791\n",
      "Logistic Regression F1 Score:  0.54660818963074\n",
      "Logistic Regression Log Loss:  0.61656822829557\n"
     ]
    }
   ],
   "source": [
    "print(\"Logistic Regression Accuracy: \", metrics.accuracy_score(y_testset, y))\n",
    "print(\"Logistic Regression Jaccard Similarity: \", jaccard_similarity_score(y_testset, y))\n",
    "print(\"Logistic Regression F1 Score: \", f1_score(y_testset, y,average='weighted'))\n",
    "print(\"Logistic Regression Log Loss: \", log_loss(y_testset, y_prob))"
   ]
  },
  {
   "cell_type": "code",
   "execution_count": 183,
   "metadata": {},
   "outputs": [
    {
     "name": "stdout",
     "output_type": "stream",
     "text": [
      "              precision    recall  f1-score   support\n",
      "\n",
      "           1       0.67      0.98      0.79     19422\n",
      "           2       0.52      0.03      0.06      9954\n",
      "\n",
      "   micro avg       0.66      0.66      0.66     29376\n",
      "   macro avg       0.59      0.51      0.43     29376\n",
      "weighted avg       0.62      0.66      0.55     29376\n",
      "\n"
     ]
    }
   ],
   "source": [
    "print (classification_report(y_testset, y))\n"
   ]
  },
  {
   "cell_type": "code",
   "execution_count": 185,
   "metadata": {},
   "outputs": [
    {
     "name": "stdout",
     "output_type": "stream",
     "text": [
      "Confusion matrix, without normalization\n",
      "[[19112   310]\n",
      " [ 9614   340]]\n"
     ]
    },
    {
     "data": {
      "image/png": "[encoded data removed]",
      "text/plain": [
       "<Figure size 432x288 with 2 Axes>"
      ]
     },
     "metadata": {
      "needs_background": "light"
     },
     "output_type": "display_data"
    }
   ],
   "source": [
    "# Compute confusion matrix\n",
    "cnf_matrix = confusion_matrix(y_testset, y, labels=[1,2])\n",
    "np.set_printoptions(precision=2)\n",
    "\n",
    "\n",
    "# Plot non-normalized confusion matrix\n",
    "plt.figure()\n",
    "plot_confusion_matrix(cnf_matrix, classes=['SEVERITY=1','SEVERITY=2'],normalize= False,  title='Confusion matrix')"
   ]
  },
  {
   "cell_type": "markdown",
   "metadata": {},
   "source": [
    "## Support Vector Machine (SVM)"
   ]
  },
  {
   "cell_type": "code",
   "execution_count": null,
   "metadata": {},
   "outputs": [
    {
     "name": "stderr",
     "output_type": "stream",
     "text": [
      "/home/jupyterlab/conda/envs/python/lib/python3.6/site-packages/sklearn/svm/base.py:196: FutureWarning: The default value of gamma will change from 'auto' to 'scale' in version 0.22 to account better for unscaled features. Set gamma explicitly to 'auto' or 'scale' to avoid this warning.\n",
      "  \"avoid this warning.\", FutureWarning)\n"
     ]
    }
   ],
   "source": [
    "clf = svm.SVC(kernel='rbf')\n",
    "clf.fit(X_trainset, y_trainset) "
   ]
  },
  {
   "cell_type": "code",
   "execution_count": 28,
   "metadata": {},
   "outputs": [
    {
     "data": {
      "text/plain": [
       "array([1, 1, 2, 1, 1])"
      ]
     },
     "execution_count": 28,
     "metadata": {},
     "output_type": "execute_result"
    }
   ],
   "source": [
    "y = clf.predict(X_testset)\n",
    "y [0:5]"
   ]
  },
  {
   "cell_type": "code",
   "execution_count": null,
   "metadata": {},
   "outputs": [],
   "source": [
    "y_prob = clf.predict_proba(X_testset)"
   ]
  },
  {
   "cell_type": "code",
   "execution_count": null,
   "metadata": {},
   "outputs": [],
   "source": [
    "print(\"SVM Accuracy: \", metrics.accuracy_score(y_testset, y))\n",
    "print(\"SVM Jaccard Similarity: \", jaccard_similarity_score(y_testset, y))\n",
    "print(\"SVM F1 Score: \", f1_score(y_testset, y,average='weighted'))\n",
    "print(\"Log Loss: \", log_loss(y_testset, y_prob))"
   ]
  },
  {
   "cell_type": "code",
   "execution_count": null,
   "metadata": {},
   "outputs": [],
   "source": [
    "print (classification_report(y_testset, y))\n"
   ]
  },
  {
   "cell_type": "code",
   "execution_count": null,
   "metadata": {},
   "outputs": [],
   "source": [
    "# Compute confusion matrix\n",
    "cnf_matrix = confusion_matrix(y_testset, y, labels=[1,2])\n",
    "np.set_printoptions(precision=2)\n",
    "\n",
    "# Plot non-normalized confusion matrix\n",
    "plt.figure()\n",
    "plot_confusion_matrix(cnf_matrix, classes=['SEVERITY=1','SEVERITY=2'],normalize= False,  title='Confusion matrix')"
   ]
  },
  {
   "cell_type": "code",
   "execution_count": null,
   "metadata": {},
   "outputs": [],
   "source": []
  }
 ],
 "metadata": {
  "kernelspec": {
   "display_name": "Python",
   "language": "python",
   "name": "conda-env-python-py"
  },
  "language_info": {
   "codemirror_mode": {
    "name": "ipython",
    "version": 3
   },
   "file_extension": ".py",
   "mimetype": "text/x-python",
   "name": "python",
   "nbconvert_exporter": "python",
   "pygments_lexer": "ipython3",
   "version": "3.6.11"
  }
 },
 "nbformat": 4,
 "nbformat_minor": 4
}
