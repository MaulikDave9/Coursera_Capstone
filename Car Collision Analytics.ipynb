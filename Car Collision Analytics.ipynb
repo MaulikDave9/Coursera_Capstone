{
    "cells": [
        {
            "cell_type": "code",
            "execution_count": 1,
            "metadata": {},
            "outputs": [],
            "source": "import numpy as np  \nimport pandas as pd \nimport matplotlib.pyplot as plt\n\nfrom sklearn import preprocessing\nfrom sklearn import metrics\nfrom sklearn.model_selection import train_test_split\n\nfrom sklearn.tree import DecisionTreeClassifier\nfrom sklearn.linear_model import LogisticRegression\nfrom sklearn import svm\n\n\n\nfrom sklearn.metrics import confusion_matrix\nfrom sklearn.metrics import jaccard_similarity_score\nfrom sklearn.metrics import f1_score\nfrom sklearn.metrics import log_loss"
        },
        {
            "cell_type": "code",
            "execution_count": 2,
            "metadata": {},
            "outputs": [
                {
                    "name": "stderr",
                    "output_type": "stream",
                    "text": "/opt/conda/envs/Python36/lib/python3.6/site-packages/IPython/core/interactiveshell.py:3020: DtypeWarning: Columns (33) have mixed types. Specify dtype option on import or set low_memory=False.\n  interactivity=interactivity, compiler=compiler, result=result)\n"
                }
            ],
            "source": "filename = 'https://s3.us.cloud-object-storage.appdomain.cloud/cf-courses-data/CognitiveClass/DP0701EN/version-2/Data-Collisions.csv'\ndf = pd.read_csv(filename)"
        },
        {
            "cell_type": "code",
            "execution_count": 3,
            "metadata": {},
            "outputs": [
                {
                    "data": {
                        "text/plain": "Index(['SEVERITYCODE', 'X', 'Y', 'OBJECTID', 'INCKEY', 'COLDETKEY', 'REPORTNO',\n       'STATUS', 'ADDRTYPE', 'INTKEY', 'LOCATION', 'EXCEPTRSNCODE',\n       'EXCEPTRSNDESC', 'SEVERITYCODE.1', 'SEVERITYDESC', 'COLLISIONTYPE',\n       'PERSONCOUNT', 'PEDCOUNT', 'PEDCYLCOUNT', 'VEHCOUNT', 'INCDATE',\n       'INCDTTM', 'JUNCTIONTYPE', 'SDOT_COLCODE', 'SDOT_COLDESC',\n       'INATTENTIONIND', 'UNDERINFL', 'WEATHER', 'ROADCOND', 'LIGHTCOND',\n       'PEDROWNOTGRNT', 'SDOTCOLNUM', 'SPEEDING', 'ST_COLCODE', 'ST_COLDESC',\n       'SEGLANEKEY', 'CROSSWALKKEY', 'HITPARKEDCAR'],\n      dtype='object')"
                    },
                    "execution_count": 3,
                    "metadata": {},
                    "output_type": "execute_result"
                }
            ],
            "source": "df.columns"
        },
        {
            "cell_type": "code",
            "execution_count": 4,
            "metadata": {},
            "outputs": [
                {
                    "data": {
                        "text/plain": "(194673, 15)"
                    },
                    "execution_count": 4,
                    "metadata": {},
                    "output_type": "execute_result"
                }
            ],
            "source": "# Create Dataframe with relevant columns\ncollisions = df[['SEVERITYCODE', 'ADDRTYPE', 'COLLISIONTYPE','PERSONCOUNT', 'PEDCOUNT', 'PEDCYLCOUNT', 'VEHCOUNT', 'JUNCTIONTYPE', 'INATTENTIONIND', 'WEATHER', 'ROADCOND', 'LIGHTCOND', 'UNDERINFL','SPEEDING','HITPARKEDCAR']]\ncollisions.shape"
        },
        {
            "cell_type": "markdown",
            "metadata": {},
            "source": "## Data Cleaning"
        },
        {
            "cell_type": "code",
            "execution_count": 5,
            "metadata": {},
            "outputs": [],
            "source": "# Removing Rows where Feature values are unknowns\ncollisions = collisions[collisions['JUNCTIONTYPE'] != \"Unknown\"]\ncollisions = collisions[collisions['WEATHER'] != \"Unknown\"]\ncollisions = collisions[collisions['ROADCOND'] != \"Unknown\"]\ncollisions = collisions[collisions['LIGHTCOND'] != \"Unknown\"]\n\n# Speeding NaN with No! \ncollisions['SPEEDING'] = collisions['SPEEDING'].fillna('N')\ncollisions['INATTENTIONIND'] = collisions['INATTENTIONIND'].fillna('N')\n\n# Drop NaN\ncollisions.dropna()\ncollisions = collisions.reset_index(drop=True)"
        },
        {
            "cell_type": "code",
            "execution_count": 6,
            "metadata": {},
            "outputs": [
                {
                    "data": {
                        "text/plain": "(175763, 15)"
                    },
                    "execution_count": 6,
                    "metadata": {},
                    "output_type": "execute_result"
                }
            ],
            "source": "collisions.shape"
        },
        {
            "cell_type": "code",
            "execution_count": 7,
            "metadata": {},
            "outputs": [],
            "source": "# Convert Y and N to 1 and 0 (numerical values)\ncollisions['INATTENTIONIND'].replace('N',0, inplace=True)\ncollisions['INATTENTIONIND'].replace('Y',0, inplace=True)\n\ncollisions['SPEEDING'].replace('N',0, inplace=True)\ncollisions['SPEEDING'].replace('Y',1, inplace=True)\n\n\ncollisions['HITPARKEDCAR'].replace('N',0, inplace=True)\ncollisions['HITPARKEDCAR'].replace('Y',1, inplace=True)\n\ncollisions['UNDERINFL'].replace('N',0, inplace=True)\ncollisions['UNDERINFL'].replace('Y',1, inplace=True)"
        },
        {
            "cell_type": "code",
            "execution_count": 8,
            "metadata": {},
            "outputs": [
                {
                    "data": {
                        "text/html": "<div>\n<style scoped>\n    .dataframe tbody tr th:only-of-type {\n        vertical-align: middle;\n    }\n\n    .dataframe tbody tr th {\n        vertical-align: top;\n    }\n\n    .dataframe thead th {\n        text-align: right;\n    }\n</style>\n<table border=\"1\" class=\"dataframe\">\n  <thead>\n    <tr style=\"text-align: right;\">\n      <th></th>\n      <th>SEVERITYCODE</th>\n      <th>ADDRTYPE</th>\n      <th>COLLISIONTYPE</th>\n      <th>WEATHER</th>\n      <th>LIGHTCOND</th>\n      <th>ROADCOND</th>\n      <th>UNDERINFL</th>\n      <th>SPEEDING</th>\n      <th>INATTENTIONIND</th>\n      <th>HITPARKEDCAR</th>\n    </tr>\n  </thead>\n  <tbody>\n    <tr>\n      <th>0</th>\n      <td>2</td>\n      <td>Intersection</td>\n      <td>Angles</td>\n      <td>Overcast</td>\n      <td>Daylight</td>\n      <td>Wet</td>\n      <td>0</td>\n      <td>0</td>\n      <td>0</td>\n      <td>0</td>\n    </tr>\n    <tr>\n      <th>1</th>\n      <td>1</td>\n      <td>Block</td>\n      <td>Sideswipe</td>\n      <td>Raining</td>\n      <td>Dark - Street Lights On</td>\n      <td>Wet</td>\n      <td>0</td>\n      <td>0</td>\n      <td>0</td>\n      <td>0</td>\n    </tr>\n    <tr>\n      <th>2</th>\n      <td>1</td>\n      <td>Block</td>\n      <td>Parked Car</td>\n      <td>Overcast</td>\n      <td>Daylight</td>\n      <td>Dry</td>\n      <td>0</td>\n      <td>0</td>\n      <td>0</td>\n      <td>0</td>\n    </tr>\n    <tr>\n      <th>3</th>\n      <td>1</td>\n      <td>Block</td>\n      <td>Other</td>\n      <td>Clear</td>\n      <td>Daylight</td>\n      <td>Dry</td>\n      <td>0</td>\n      <td>0</td>\n      <td>0</td>\n      <td>0</td>\n    </tr>\n    <tr>\n      <th>4</th>\n      <td>2</td>\n      <td>Intersection</td>\n      <td>Angles</td>\n      <td>Raining</td>\n      <td>Daylight</td>\n      <td>Wet</td>\n      <td>0</td>\n      <td>0</td>\n      <td>0</td>\n      <td>0</td>\n    </tr>\n  </tbody>\n</table>\n</div>",
                        "text/plain": "   SEVERITYCODE      ADDRTYPE COLLISIONTYPE   WEATHER  \\\n0             2  Intersection        Angles  Overcast   \n1             1         Block     Sideswipe   Raining   \n2             1         Block    Parked Car  Overcast   \n3             1         Block         Other     Clear   \n4             2  Intersection        Angles   Raining   \n\n                 LIGHTCOND ROADCOND UNDERINFL  SPEEDING  INATTENTIONIND  \\\n0                 Daylight      Wet         0         0               0   \n1  Dark - Street Lights On      Wet         0         0               0   \n2                 Daylight      Dry         0         0               0   \n3                 Daylight      Dry         0         0               0   \n4                 Daylight      Wet         0         0               0   \n\n   HITPARKEDCAR  \n0             0  \n1             0  \n2             0  \n3             0  \n4             0  "
                    },
                    "execution_count": 8,
                    "metadata": {},
                    "output_type": "execute_result"
                }
            ],
            "source": "# Subframe - with relevant Features for Model.\ncollisions = collisions[['SEVERITYCODE', 'ADDRTYPE', 'COLLISIONTYPE','WEATHER', 'LIGHTCOND','ROADCOND', 'UNDERINFL','SPEEDING','INATTENTIONIND', 'HITPARKEDCAR']]\ncollisions.head()"
        },
        {
            "cell_type": "code",
            "execution_count": 9,
            "metadata": {},
            "outputs": [
                {
                    "data": {
                        "text/plain": "(174926, 10)"
                    },
                    "execution_count": 9,
                    "metadata": {},
                    "output_type": "execute_result"
                }
            ],
            "source": "# Categorical Variable to Numeric values.\ncollisions['ADDRTYPE'].value_counts()\ncollisions = collisions[pd.notnull(collisions['ADDRTYPE'])]\ncollisions = collisions.reset_index(drop=True)\n\naddrtype = preprocessing.LabelEncoder()\naddrtype.fit(['Block','Intersection','Alley'])\ncollisions['ADDRTYPE'] = addrtype.transform(collisions['ADDRTYPE'])\n\ncollisions.shape"
        },
        {
            "cell_type": "code",
            "execution_count": 10,
            "metadata": {},
            "outputs": [
                {
                    "data": {
                        "text/plain": "(147595, 10)"
                    },
                    "execution_count": 10,
                    "metadata": {},
                    "output_type": "execute_result"
                }
            ],
            "source": "collisions['COLLISIONTYPE'].value_counts()\ncollisions = collisions[pd.notnull(collisions['COLLISIONTYPE'])]\ncollisions = collisions.reset_index(drop=True)\n\n# Remove \"Other\"\ncollisions = collisions[collisions.COLLISIONTYPE != 'Other']\n\ncolltype = preprocessing.LabelEncoder()\ncolltype.fit(['Angles','Parked Car','Rear Ended','Rear Ended','Sideswipe','Left Turn','Pedestrian','Cycles','Right Turn','Head On'])\ncollisions['COLLISIONTYPE'] = colltype.transform(collisions['COLLISIONTYPE'])\n\ncollisions.shape"
        },
        {
            "cell_type": "code",
            "execution_count": 11,
            "metadata": {},
            "outputs": [
                {
                    "data": {
                        "text/plain": "(147253, 10)"
                    },
                    "execution_count": 11,
                    "metadata": {},
                    "output_type": "execute_result"
                }
            ],
            "source": "collisions['WEATHER'].value_counts()\n\ncollisions = collisions[pd.notnull(collisions['WEATHER'])]\ncollisions = collisions.reset_index(drop=True)\n\n# Remove \"Other\"\ncollisions = collisions[collisions.WEATHER != 'Other']\n\nweathertype = preprocessing.LabelEncoder()\nweathertype.fit(['Clear','Raining', 'Overcast', 'Snowing', 'Fog/Smog/Smoke', 'Sleet/Hail/Freezing Rain','Blowing Sand/Dirt','Severe Crosswind','Partly Cloudy'])\ncollisions['WEATHER'] = weathertype.transform(collisions['WEATHER'])\n\ncollisions.shape"
        },
        {
            "cell_type": "code",
            "execution_count": 12,
            "metadata": {},
            "outputs": [
                {
                    "data": {
                        "text/plain": "(146967, 10)"
                    },
                    "execution_count": 12,
                    "metadata": {},
                    "output_type": "execute_result"
                }
            ],
            "source": "collisions['LIGHTCOND'].value_counts()\n\ncollisions = collisions[pd.notnull(collisions['LIGHTCOND'])]\ncollisions = collisions.reset_index(drop=True)\n\ncollisions = collisions[collisions.LIGHTCOND != 'Other']\ncollisions['LIGHTCOND'] = collisions['LIGHTCOND'].replace('Dark - Street Lights On', 'Dark')\ncollisions['LIGHTCOND'] = collisions['LIGHTCOND'].replace('Dark - No Street Lights', 'Dark')\ncollisions['LIGHTCOND'] = collisions['LIGHTCOND'].replace('Dark - Street Lights Off','Dark')\ncollisions['LIGHTCOND'] = collisions['LIGHTCOND'].replace('Dark - Unknown Lighting', 'Dark')\n\nlight_type = preprocessing.LabelEncoder()\nlight_type.fit(['Daylight','Dark', 'Dusk', 'Dawn'])\ncollisions['LIGHTCOND'] = light_type.transform(collisions['LIGHTCOND'])\n\ncollisions.shape"
        },
        {
            "cell_type": "code",
            "execution_count": 13,
            "metadata": {},
            "outputs": [
                {
                    "data": {
                        "text/plain": "(146880, 10)"
                    },
                    "execution_count": 13,
                    "metadata": {},
                    "output_type": "execute_result"
                }
            ],
            "source": "collisions['ROADCOND'].value_counts()\n\ncollisions = collisions[pd.notnull(collisions['ROADCOND'])]\ncollisions = collisions.reset_index(drop=True)\n\ncollisions = collisions[collisions.ROADCOND != 'Other']\n\n\nroadcond = preprocessing.LabelEncoder()\nroadcond.fit(['Dry','Wet','Ice','Snow/Slush','Standing Water','Sand/Mud/Dirt','Oil'])\ncollisions['ROADCOND'] = roadcond.transform(collisions['ROADCOND'])\n\ncollisions.shape"
        },
        {
            "cell_type": "code",
            "execution_count": 14,
            "metadata": {},
            "outputs": [
                {
                    "data": {
                        "text/html": "<div>\n<style scoped>\n    .dataframe tbody tr th:only-of-type {\n        vertical-align: middle;\n    }\n\n    .dataframe tbody tr th {\n        vertical-align: top;\n    }\n\n    .dataframe thead th {\n        text-align: right;\n    }\n</style>\n<table border=\"1\" class=\"dataframe\">\n  <thead>\n    <tr style=\"text-align: right;\">\n      <th></th>\n      <th>SEVERITYCODE</th>\n      <th>ADDRTYPE</th>\n      <th>COLLISIONTYPE</th>\n      <th>WEATHER</th>\n      <th>LIGHTCOND</th>\n      <th>ROADCOND</th>\n      <th>UNDERINFL</th>\n      <th>SPEEDING</th>\n      <th>INATTENTIONIND</th>\n      <th>HITPARKEDCAR</th>\n    </tr>\n  </thead>\n  <tbody>\n    <tr>\n      <th>0</th>\n      <td>2</td>\n      <td>2</td>\n      <td>0</td>\n      <td>3</td>\n      <td>2</td>\n      <td>6</td>\n      <td>0</td>\n      <td>0</td>\n      <td>0</td>\n      <td>0</td>\n    </tr>\n    <tr>\n      <th>1</th>\n      <td>1</td>\n      <td>1</td>\n      <td>8</td>\n      <td>5</td>\n      <td>0</td>\n      <td>6</td>\n      <td>0</td>\n      <td>0</td>\n      <td>0</td>\n      <td>0</td>\n    </tr>\n    <tr>\n      <th>2</th>\n      <td>1</td>\n      <td>1</td>\n      <td>4</td>\n      <td>3</td>\n      <td>2</td>\n      <td>0</td>\n      <td>0</td>\n      <td>0</td>\n      <td>0</td>\n      <td>0</td>\n    </tr>\n    <tr>\n      <th>3</th>\n      <td>2</td>\n      <td>2</td>\n      <td>0</td>\n      <td>5</td>\n      <td>2</td>\n      <td>6</td>\n      <td>0</td>\n      <td>0</td>\n      <td>0</td>\n      <td>0</td>\n    </tr>\n    <tr>\n      <th>4</th>\n      <td>1</td>\n      <td>2</td>\n      <td>0</td>\n      <td>1</td>\n      <td>2</td>\n      <td>0</td>\n      <td>0</td>\n      <td>0</td>\n      <td>0</td>\n      <td>0</td>\n    </tr>\n  </tbody>\n</table>\n</div>",
                        "text/plain": "   SEVERITYCODE  ADDRTYPE  COLLISIONTYPE  WEATHER  LIGHTCOND  ROADCOND  \\\n0             2         2              0        3          2         6   \n1             1         1              8        5          0         6   \n2             1         1              4        3          2         0   \n3             2         2              0        5          2         6   \n4             1         2              0        1          2         0   \n\n  UNDERINFL  SPEEDING  INATTENTIONIND  HITPARKEDCAR  \n0         0         0               0             0  \n1         0         0               0             0  \n2         0         0               0             0  \n3         0         0               0             0  \n4         0         0               0             0  "
                    },
                    "execution_count": 14,
                    "metadata": {},
                    "output_type": "execute_result"
                }
            ],
            "source": "collisions.head()"
        },
        {
            "cell_type": "code",
            "execution_count": 15,
            "metadata": {},
            "outputs": [
                {
                    "data": {
                        "text/plain": "array([[2, 0, 3, 2, 6, 0, 0, 0, 0],\n       [1, 8, 5, 0, 6, '0', 0, 0, 0],\n       [1, 4, 3, 2, 0, '0', 0, 0, 0],\n       [2, 0, 5, 2, 6, '0', 0, 0, 0],\n       [2, 0, 1, 2, 0, 0, 0, 0, 0]], dtype=object)"
                    },
                    "execution_count": 15,
                    "metadata": {},
                    "output_type": "execute_result"
                }
            ],
            "source": "X = collisions[['ADDRTYPE','COLLISIONTYPE','WEATHER','LIGHTCOND','ROADCOND','UNDERINFL','SPEEDING','INATTENTIONIND','HITPARKEDCAR']].values\nX[0:5]"
        },
        {
            "cell_type": "code",
            "execution_count": 16,
            "metadata": {},
            "outputs": [
                {
                    "name": "stderr",
                    "output_type": "stream",
                    "text": "/opt/conda/envs/Python36/lib/python3.6/site-packages/sklearn/utils/validation.py:595: DataConversionWarning: Data with input dtype object was converted to float64 by StandardScaler.\n  warnings.warn(msg, DataConversionWarning)\n/opt/conda/envs/Python36/lib/python3.6/site-packages/sklearn/utils/validation.py:595: DataConversionWarning: Data with input dtype object was converted to float64 by StandardScaler.\n  warnings.warn(msg, DataConversionWarning)\n"
                },
                {
                    "data": {
                        "text/plain": "array([[ 1.23775641, -1.45144996,  0.55758625,  0.56591988,  1.65791983,\n        -0.21328644, -0.1956852 ,  0.        , -0.18213444],\n       [-0.79200491,  1.54405507,  1.7880567 , -1.58759157,  1.65791983,\n        -0.21328644, -0.1956852 ,  0.        , -0.18213444],\n       [-0.79200491,  0.04630256,  0.55758625,  0.56591988, -0.60860348,\n        -0.21328644, -0.1956852 ,  0.        , -0.18213444],\n       [ 1.23775641, -1.45144996,  1.7880567 ,  0.56591988,  1.65791983,\n        -0.21328644, -0.1956852 ,  0.        , -0.18213444],\n       [ 1.23775641, -1.45144996, -0.67288421,  0.56591988, -0.60860348,\n        -0.21328644, -0.1956852 ,  0.        , -0.18213444]])"
                    },
                    "execution_count": 16,
                    "metadata": {},
                    "output_type": "execute_result"
                }
            ],
            "source": "X = preprocessing.StandardScaler().fit(X).transform(X)\nX[0:5]"
        },
        {
            "cell_type": "code",
            "execution_count": 17,
            "metadata": {},
            "outputs": [
                {
                    "data": {
                        "text/plain": "0    2\n1    1\n2    1\n3    2\n4    1\nName: SEVERITYCODE, dtype: int64"
                    },
                    "execution_count": 17,
                    "metadata": {},
                    "output_type": "execute_result"
                }
            ],
            "source": "y = collisions['SEVERITYCODE']\ny[0:5]"
        },
        {
            "cell_type": "code",
            "execution_count": 18,
            "metadata": {},
            "outputs": [],
            "source": "X_trainset, X_testset, y_trainset, y_testset = train_test_split(X, y, test_size=0.3, random_state=3)"
        },
        {
            "cell_type": "code",
            "execution_count": 19,
            "metadata": {},
            "outputs": [
                {
                    "name": "stdout",
                    "output_type": "stream",
                    "text": "X Train Set:  (102816, 9)\nY Train Set:  (102816,)\nX Test Set:  (44064, 9)\nY Test Set:  (44064,)\n"
                }
            ],
            "source": "print(\"X Train Set: \", X_trainset.shape)\nprint(\"Y Train Set: \",  y_trainset.shape)\nprint(\"X Test Set: \", X_testset.shape)\nprint(\"Y Test Set: \",  y_testset.shape)"
        },
        {
            "cell_type": "markdown",
            "metadata": {},
            "source": "## Decision Tree"
        },
        {
            "cell_type": "code",
            "execution_count": 20,
            "metadata": {},
            "outputs": [
                {
                    "data": {
                        "text/plain": "DecisionTreeClassifier(class_weight=None, criterion='entropy', max_depth=4,\n            max_features=None, max_leaf_nodes=None,\n            min_impurity_decrease=0.0, min_impurity_split=None,\n            min_samples_leaf=1, min_samples_split=2,\n            min_weight_fraction_leaf=0.0, presort=False, random_state=None,\n            splitter='best')"
                    },
                    "execution_count": 20,
                    "metadata": {},
                    "output_type": "execute_result"
                }
            ],
            "source": "SeverityTree = DecisionTreeClassifier(criterion=\"entropy\", max_depth = 4)\nSeverityTree"
        },
        {
            "cell_type": "code",
            "execution_count": 21,
            "metadata": {},
            "outputs": [
                {
                    "data": {
                        "text/plain": "DecisionTreeClassifier(class_weight=None, criterion='entropy', max_depth=4,\n            max_features=None, max_leaf_nodes=None,\n            min_impurity_decrease=0.0, min_impurity_split=None,\n            min_samples_leaf=1, min_samples_split=2,\n            min_weight_fraction_leaf=0.0, presort=False, random_state=None,\n            splitter='best')"
                    },
                    "execution_count": 21,
                    "metadata": {},
                    "output_type": "execute_result"
                }
            ],
            "source": "SeverityTree.fit(X_trainset, y_trainset)"
        },
        {
            "cell_type": "code",
            "execution_count": 22,
            "metadata": {},
            "outputs": [],
            "source": "predTree = SeverityTree.predict(X_testset)"
        },
        {
            "cell_type": "code",
            "execution_count": 23,
            "metadata": {},
            "outputs": [
                {
                    "name": "stdout",
                    "output_type": "stream",
                    "text": "DecisionTrees's Accuracy:  0.7037037037037037\nDecisionTrees's Jaccard Index:  0.7037037037037037\nDecisionTrees's F1 Score:  0.6377511520156639\n"
                }
            ],
            "source": "print(\"DecisionTrees's Accuracy: \", metrics.accuracy_score(y_testset, predTree))\nprint(\"DecisionTrees's Jaccard Index: \", jaccard_similarity_score(y_testset, predTree))\nprint(\"DecisionTrees's F1 Score: \", f1_score(y_testset, predTree,average='weighted'))"
        },
        {
            "cell_type": "markdown",
            "metadata": {},
            "source": "## Logistic Regression"
        },
        {
            "cell_type": "code",
            "execution_count": 24,
            "metadata": {},
            "outputs": [
                {
                    "data": {
                        "text/plain": "LogisticRegression(C=0.01, class_weight=None, dual=False, fit_intercept=True,\n          intercept_scaling=1, max_iter=100, multi_class='warn',\n          n_jobs=None, penalty='l2', random_state=None, solver='liblinear',\n          tol=0.0001, verbose=0, warm_start=False)"
                    },
                    "execution_count": 24,
                    "metadata": {},
                    "output_type": "execute_result"
                }
            ],
            "source": "\nLR = LogisticRegression(C=0.01, solver='liblinear').fit(X_trainset,y_trainset)\nLR"
        },
        {
            "cell_type": "code",
            "execution_count": 25,
            "metadata": {},
            "outputs": [
                {
                    "data": {
                        "text/plain": "array([1, 1, 1, ..., 1, 1, 1])"
                    },
                    "execution_count": 25,
                    "metadata": {},
                    "output_type": "execute_result"
                }
            ],
            "source": "y = LR.predict(X_testset)\ny"
        },
        {
            "cell_type": "code",
            "execution_count": 26,
            "metadata": {},
            "outputs": [
                {
                    "name": "stdout",
                    "output_type": "stream",
                    "text": "Logistic Regression Accuracy:  0.6633986928104575\nLogistic Regression Jaccard Similarity:  0.6633986928104575\nLogistic Regression F1 Score:  0.548167264302313\n"
                }
            ],
            "source": "print(\"Logistic Regression Accuracy: \", metrics.accuracy_score(y_testset, y))\nprint(\"Logistic Regression Jaccard Similarity: \", jaccard_similarity_score(y_testset, y))\nprint(\"Logistic Regression F1 Score: \", f1_score(y_testset, y,average='weighted'))"
        },
        {
            "cell_type": "markdown",
            "metadata": {},
            "source": "## Support Vector Machine (SVM)"
        },
        {
            "cell_type": "code",
            "execution_count": 28,
            "metadata": {},
            "outputs": [
                {
                    "name": "stderr",
                    "output_type": "stream",
                    "text": "/opt/conda/envs/Python36/lib/python3.6/site-packages/sklearn/svm/base.py:196: FutureWarning: The default value of gamma will change from 'auto' to 'scale' in version 0.22 to account better for unscaled features. Set gamma explicitly to 'auto' or 'scale' to avoid this warning.\n  \"avoid this warning.\", FutureWarning)\n"
                },
                {
                    "data": {
                        "text/plain": "SVC(C=1.0, cache_size=200, class_weight=None, coef0=0.0,\n  decision_function_shape='ovr', degree=3, gamma='auto_deprecated',\n  kernel='rbf', max_iter=-1, probability=False, random_state=None,\n  shrinking=True, tol=0.001, verbose=False)"
                    },
                    "execution_count": 28,
                    "metadata": {},
                    "output_type": "execute_result"
                }
            ],
            "source": "clf = svm.SVC(kernel='rbf')\nclf.fit(X_trainset, y_trainset) "
        },
        {
            "cell_type": "code",
            "execution_count": 29,
            "metadata": {},
            "outputs": [
                {
                    "data": {
                        "text/plain": "array([1, 1, 2, 1, 1])"
                    },
                    "execution_count": 29,
                    "metadata": {},
                    "output_type": "execute_result"
                }
            ],
            "source": "y = clf.predict(X_testset)\ny [0:5]"
        },
        {
            "cell_type": "code",
            "execution_count": 30,
            "metadata": {},
            "outputs": [
                {
                    "name": "stdout",
                    "output_type": "stream",
                    "text": "SVM Accuracy:  0.6665531953522149\nSVM Jaccard Similarity:  0.6665531953522149\nSVM F1 Score:  0.6132657857105431\n"
                }
            ],
            "source": "print(\"SVM Accuracy: \", metrics.accuracy_score(y_testset, y))\nprint(\"SVM Jaccard Similarity: \", jaccard_similarity_score(y_testset, y))\nprint(\"SVM F1 Score: \", f1_score(y_testset, y,average='weighted'))"
        },
        {
            "cell_type": "code",
            "execution_count": null,
            "metadata": {},
            "outputs": [],
            "source": ""
        }
    ],
    "metadata": {
        "kernelspec": {
            "display_name": "Python 3.6",
            "language": "python",
            "name": "python3"
        },
        "language_info": {
            "codemirror_mode": {
                "name": "ipython",
                "version": 3
            },
            "file_extension": ".py",
            "mimetype": "text/x-python",
            "name": "python",
            "nbconvert_exporter": "python",
            "pygments_lexer": "ipython3",
            "version": "3.6.9"
        }
    },
    "nbformat": 4,
    "nbformat_minor": 1
}